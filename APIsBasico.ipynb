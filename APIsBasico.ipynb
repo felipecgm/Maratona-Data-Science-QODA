{
  "nbformat": 4,
  "nbformat_minor": 0,
  "metadata": {
    "colab": {
      "name": "APIsBasico.ipynb",
      "provenance": [],
      "include_colab_link": true
    },
    "kernelspec": {
      "name": "python3",
      "display_name": "Python 3"
    }
  },
  "cells": [
    {
      "cell_type": "markdown",
      "metadata": {
        "id": "view-in-github",
        "colab_type": "text"
      },
      "source": [
        "<a href=\"https://colab.research.google.com/github/felipecgm/QODA---Python/blob/master/APIsBasico.ipynb\" target=\"_parent\"><img src=\"https://colab.research.google.com/assets/colab-badge.svg\" alt=\"Open In Colab\"/></a>"
      ]
    },
    {
      "cell_type": "markdown",
      "metadata": {
        "id": "RNDx8IXexIET",
        "colab_type": "text"
      },
      "source": [
        "## APIs\n",
        "Interface de Programação de Aplicação, é um conjunto de rotinas e padrões estabelecidos por um software para a utilização das suas funcionalidades por aplicativos que não pretendem envolver-se em detalhes da implementação do software, mas apenas usar seus serviços.\n"
      ]
    },
    {
      "cell_type": "code",
      "metadata": {
        "id": "WeYyyn7-xHSU",
        "colab_type": "code",
        "colab": {
          "base_uri": "https://localhost:8080/",
          "height": 1000
        },
        "outputId": "81444723-490d-4d0d-9b3d-7d968ca24223"
      },
      "source": [
        "# newsapi.org\n",
        "import json\n",
        "import requests\n",
        "\n",
        "try:\n",
        "  req = requests.get('http://newsapi.org/v2/top-headlines?country=br&category=business&apiKey=8c86b3b122284710901f3c6dd9c98037')\n",
        "  noticias = json.loads(req.text)\n",
        "  for news in noticias['articles']:\n",
        "    titulo = news['title']\n",
        "    link = news['url']\n",
        "    desc = news['description']\n",
        "    mensagem = f'{titulo}\\n{desc}\\n{link}'\n",
        "    print(mensagem)\n",
        "    print()\n",
        "except Exception as e:\n",
        "  print(f\"Não desta vez! Erro encontrado: {e}\")"
      ],
      "execution_count": 5,
      "outputs": [
        {
          "output_type": "stream",
          "text": [
            "Corte de juros reduz ganho da renda fixa; veja como ficam os investimentos - UOL Economia\n",
            "Os investimentos dos brasileiros voltam a ser afetados por um novo corte de juros no país. O Banco Central diminui a taxa básica, a Selic, de 3,75% para 3% ao ano, nova mínima histórica. Como essa taxa é a referência usada para determinar a variação de ap\n",
            "https://economia.uol.com.br/financas-pessoais/noticias/redacao/2020/05/06/novo-corte-de-juros-reduz-ganho-da-renda-fixa-novamente.htm\n",
            "\n",
            "Copom faz novo corte e juro básico cai de 3,75% para 3% ao ano - G1\n",
            "Patamar anterior da taxa Selic tinha sido fixado em 18 de março; corte renovou mínima histórica. Próxima reunião do comitê está marcada para os dias 16 e 17 de junho.\n",
            "https://g1.globo.com/economia/noticia/2020/05/06/copom-faz-novo-corte-e-juro-basico-cai-de-375percent-para-3percent-ao-ano.ghtml\n",
            "\n",
            "Bayer anuncia 29 vagas de emprego para contratação imediata - Edital Concursos Brasil\n",
            "Inscrições terminam nesta quinta-feira, 7; saiba como se inscrever.\n",
            "https://editalconcursosbrasil.com.br/noticias/2020/05/bayer-anuncia-29-vagas-de-emprego-para-contratacao-imediata/\n",
            "\n",
            "Saiba qual o valor do PIS/PASEP 2020 você pode receber este ano - Notícias Concursos\n",
            "O Governo Federal disponibilizou um novo calendário de pagamentos do abono salarial do PIS/PASEP para quem trabalhou em 2019 com carteira assinada. Segundo o texto de liberação, as retiradas poderão ser feitas a partir do dia 16 de julho deste ano e\n",
            "https://noticiasconcursos.com.br/noticias-concursos/saiba-qual-o-valor-do-pis-pasep-2020-voce-pode-receber-este-ano/\n",
            "\n",
            "Ação da Gerdau vira para alta após queda com resultado, enquanto TIM e Vivo seguem em baixa; Petrobras cai com petróleo - InfoMoney\n",
            "Confira os destaques do noticiário corporativo na sessão desta quarta-feira (6)\n",
            "https://www.infomoney.com.br/mercados/acoes-de-tim-e-vivo-sobem-ate-5-apos-resultados-do-1o-trimestre-petrobras-tem-sessao-volatil-seguindo-petroleo/\n",
            "\n",
            "Dólar emenda 4ª alta, passa de R$ 5,70 e bate novo recorde; Bolsa cai 0,51% - UOL\n",
            "O dólar comercial fechou em alta de 2,03%, vendido a R$ 5,704. Foi o quarto avanço seguido. Com o resultado, a moeda bateu mais um recorde nominal (sem considerar a inflação) de fechamento desde a criação do Plano Real. No ano, o dólar acumula alta de 42,\n",
            "https://economia.uol.com.br/cotacoes/noticias/redacao/2020/05/06/fechamento-bolsa-dolar.htm\n",
            "\n",
            "Petrobras aumenta preço da gasolina em 12% - Jornal Correio do Povo\n",
            "A alta, em todas as refinarias, foi de R$ 0,1097 nesta quarta-feira\n",
            "https://www.correiodopovo.com.br/notícias/economia/petrobras-aumenta-preço-da-gasolina-em-12-1.418846\n",
            "\n",
            "'Em vez de jogar água para apagar fogo, estão jogando gasolina', diz Luiza Trajano - Esportes Estadão\n",
            "None\n",
            "https://news.google.com/__i/rss/rd/articles/CBMiiQFodHRwczovL2Vjb25vbWlhLmVzdGFkYW8uY29tLmJyL25vdGljaWFzL2dlcmFsLGVtLXZlei1kZS1qb2dhci1hZ3VhLXBhcmEtYXBhZ2FyLWZvZ28tZXN0YW8tam9nYW5kby1nYXNvbGluYS1kaXotbHVpemEtdHJhamFubyw3MDAwMzI5NDQyNtIBjQFodHRwczovL2Vjb25vbWlhLmVzdGFkYW8uY29tLmJyL25vdGljaWFzL2dlcmFsLGVtLXZlei1kZS1qb2dhci1hZ3VhLXBhcmEtYXBhZ2FyLWZvZ28tZXN0YW8tam9nYW5kby1nYXNvbGluYS1kaXotbHVpemEtdHJhamFubyw3MDAwMzI5NDQyNi5hbXA?oc=5\n",
            "\n",
            "Hyundai Express: serviço permite comprar HB20 e Creta sem sair de casa - Motor1 Brasil\n",
            "Nova plataforma digital inclui até avaliação do usado que pode ser dado como parte de pagamento\n",
            "https://motor1.uol.com.br/news/420329/hyundai-express-novo-servico-vendas-online/\n",
            "\n",
            "Kia Soul sai de linha e nova geração pode nem ser lançada no Brasil - UOL\n",
            "A Kia Motors ainda exibe o Soul em seu site oficial, mas o modelo não está mais sendo importado para o mercado brasileiro. E pior: a estreia da nova geração pode nem acontecer.A notícia foi dada pelo site da revista \"Quatro Rodas\" e confirmada por UOL Car\n",
            "https://www.uol.com.br/carros/noticias/redacao/2020/05/06/kia-soul-sai-de-linha-e-nova-geracao-pode-nem-ser-lancada-no-brasil.htm\n",
            "\n",
            "Audi R8 retornará ao Brasil no 2º semestre por R$ 1,23 milhão - Motor1 Brasil\n",
            "Esportivo conta com motor 5.2 V10 de 610 cv e será oferecido em versão única, configurável pelo site da marca\n",
            "https://motor1.uol.com.br/news/420321/audi-r8-2020-lancamento-brasil/\n",
            "\n",
            "Ibovespa cai com cenário político, petróleo e Fitch no foco; dólar tem alta - Valor Econômico\n",
            "Investidores aguardam nesta jornada decisão sobre juro brasileiro\n",
            "https://valor.globo.com/financas/noticia/2020/05/06/ibovespa-cai-com-cenario-politico-copom-e-balancos-no-foco-dolar-tem-alta.ghtml\n",
            "\n",
            "TIM e Vivo avançam na compra da Oi - Tecmundo\n",
            "Apenas divisão móvel da Oi deve entrar na negociação\n",
            "https://www.tecmundo.com.br/mercado/152868-tim-vivo-avancam-compra-oi.htm\n",
            "\n",
            "Picape da Hyundai com tamanho da Fiat Toro, Santa Cruz é flagrada sem disfarces - AUTOO\n",
            "Na verdade, foi flagrada sem nada, nem mesmo peças. Foto mostra a novidade apenas na lataria e sem nada montado\n",
            "https://www.autoo.com.br/picape-da-hyundai-com-tamanho-da-fiat-toro-santa-cruz-e-flagrada-sem-disfarces/\n",
            "\n",
            "Uber cortará 3.700 empregos e salário do presidente da empresa - G1\n",
            "Medidas serão tomadas pela queda na demanda pelos serviços, causada pela pandemia do coronavírus. Brasil também foi afetado.\n",
            "https://g1.globo.com/economia/tecnologia/noticia/2020/05/06/uber-cortara-3700-empregos-e-salario-do-presidente-da-empresa.ghtml\n",
            "\n",
            "Nubank anuncia nova função para seus usuários; Conheça a novidade! - Edital Concursos Brasil\n",
            "Por meio de aplicativo, fintech auxilia usuários a dividir o valor de uma transação no cartão de crédito, débito ou conta.\n",
            "https://editalconcursosbrasil.com.br/noticias/2020/05/nubank-anuncia-nova-funcao-para-seus-usuarios-conheca-a-novidade/\n",
            "\n",
            "Marca de moda vende máscaras a R$147,00 e passa vergonha em plena pandemia - UOL\n",
            "Desde ontem, a Coluna do Leo Dias vem recebendo inúmeras mensagens com a 'nova promoção' de uma marca de roupas da elite carioca, a Osklen. Eles resolveram vender um kit com\n",
            "https://tvefamosos.uol.com.br/colunas/leo-dias/2020/05/06/marca-de-moda-vende-mascaras-r14700-e-passa-vergonha-em-plena-pandemia.htm\n",
            "\n",
            "Mercado Livre dispara em NY após balanço e impulsiona ações de e-commerce na... - Money Times\n",
            "Varejistas brasileiras seguem embaladas por crescimento da receita do Mercado Livre, que disparou na Nyse e rompeu fronteiras (Imagem: Reuters/Brendan McDermid) Ações de varejistas com forte atuação no comércio eletrônico figuravam entre as maiores altas do I…\n",
            "https://www.moneytimes.com.br/mercado-livre-dispara-em-ny-apos-balanco-e-impulsiona-acoes-de-e-commerce-na-b3/\n",
            "\n",
            "Auxílio de R$ 600: fiscais apreendem 53 cadeiras usadas para venda de lugares em filas de bancos - Diário do Nordeste\n",
            "Aglomerações e noites em filas são resultados da tentativa de acesso ao auxílio emergencial de R$ 600 para minimizar os efeitos da pandemia\n",
            "https://diariodonordeste.verdesmares.com.br/editorias/negocios/online/auxilio-de-r-600-fiscais-apreendem-53-cadeiras-usadas-para-venda-de-lugares-em-filas-de-bancos-1.2242594\n",
            "\n",
            "Vivo cresce em fibra e pós-pago e segue líder do setor - Terra\n",
            "Investimentos no trimestre foram de R$ 1,6 bilhão com foco na expansão da rede de fibra e da cobertura 4.5G\n",
            "https://www.terra.com.br/noticias/tecnologia/vivo-cresce-em-fibra-e-pos-pago-e-segue-lider-do-setor,f9bf0e352d1a064d8462b0bd8b699e90k3evohxk.html\n",
            "\n"
          ],
          "name": "stdout"
        }
      ]
    }
  ]
}