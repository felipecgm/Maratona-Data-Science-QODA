{
  "nbformat": 4,
  "nbformat_minor": 0,
  "metadata": {
    "colab": {
      "name": "Fase2R.ipynb",
      "provenance": [],
      "collapsed_sections": []
    },
    "kernelspec": {
      "name": "ir",
      "display_name": "R"
    }
  },
  "cells": [
    {
      "cell_type": "markdown",
      "metadata": {
        "id": "Z2Kl9pfj0JKM",
        "colab_type": "text"
      },
      "source": [
        "# Seja ensinável e execute as tarefas compartilhadas. Por fins didáticos e para melhor separação mental das sintaxes Python/R, realizaremos todos os exercícios de Python em R.\n",
        "![alt text](https://media.tenor.com/images/51e469036910eb2ece677863200af5a8/tenor.gif)"
      ]
    },
    {
      "cell_type": "markdown",
      "metadata": {
        "id": "j9ZuOU7Kyh9O",
        "colab_type": "text"
      },
      "source": [
        "Crie um algoritmo em R que peça uma nota, entre 0 e 100. Mostre uma mensagem caso o valor seja inválido e continue pedindo até que o usuário informe um valor válido."
      ]
    },
    {
      "cell_type": "code",
      "metadata": {
        "id": "tlFupLd-ydTB",
        "colab_type": "code",
        "outputId": "f1ed5c12-70f4-441b-ec00-8b5dba5c2a1b",
        "colab": {
          "base_uri": "https://localhost:8080/",
          "height": 68
        }
      },
      "source": [
        "num = as.integer(readline(\"Informe um número inteiro de 0 a 100: \"));\n",
        "while (num < 0 | num > 100) {\n",
        "    print(\"Informe um valor válido!\");\n",
        "    num = as.integer(readline(\"Informe um número inteiro de 0 a 100: \"));\n",
        "};"
      ],
      "execution_count": 0,
      "outputs": [
        {
          "output_type": "stream",
          "text": [
            "Informe um número inteiro de 0 a 100: -1\n",
            "Informe um número inteiro de 0 a 100: 5\n",
            "[1] \"Informe um valor válido!\"\n"
          ],
          "name": "stdout"
        }
      ]
    },
    {
      "cell_type": "markdown",
      "metadata": {
        "id": "yhw2owA-zbrn",
        "colab_type": "text"
      },
      "source": [
        "Crie um algoritmo em R que leia um nome de usuário e a sua senha e não aceite a senha igual ao nome do usuário, mostrando uma mensagem de erro e voltando a pedir as informações.<br>"
      ]
    },
    {
      "cell_type": "code",
      "metadata": {
        "id": "RJJtXkvV0qzj",
        "colab_type": "code",
        "outputId": "148b2482-96c9-4317-952e-08fd61f8bc1e",
        "colab": {
          "base_uri": "https://localhost:8080/",
          "height": 203
        }
      },
      "source": [
        "usuario = readline(\"Informe o nome do usuário: \");\n",
        "senha = readline(\"Informe a senha: \");\n",
        "while(usuario == senha) {\n",
        "    print(\"A senha não pode ser igual ao usuário. Tente Novamente.\")\n",
        "\n",
        "    usuario = readline(prompt = \"Informe o nome do usuário: \");\n",
        "    senha = readline(prompt = \"Informe a senha: \");\n",
        "}\n"
      ],
      "execution_count": 0,
      "outputs": [
        {
          "output_type": "stream",
          "text": [
            "Informe o nome do usuário: 1\n",
            "Informe a senha: 1\n",
            "Informe o nome do usuário: 1\n",
            "Informe a senha: 1\n",
            "Informe o nome do usuário: 1\n",
            "Informe a senha: 1\n",
            "Informe o nome do usuário: 2\n",
            "Informe a senha: 1\n",
            "[1] \"A senha não pode ser igual ao usuário. Tente Novamente.\"\n",
            "[1] \"A senha não pode ser igual ao usuário. Tente Novamente.\"\n",
            "[1] \"A senha não pode ser igual ao usuário. Tente Novamente.\"\n"
          ],
          "name": "stdout"
        }
      ]
    },
    {
      "cell_type": "markdown",
      "metadata": {
        "id": "35RwPIIF0w3i",
        "colab_type": "text"
      },
      "source": [
        "Crie um algoritmo em R que leia e valide as seguintes informações:\n",
        "* Nome: maior que 3 caracteres;\n",
        "* Idade: entre 0 e 150;\n",
        "* Salário: maior que zero;\n",
        "* Sexo: 'f' ou 'm';\n",
        "* Estado Civil: 's', 'c', 'v', 'd';"
      ]
    },
    {
      "cell_type": "code",
      "metadata": {
        "id": "cINX-5Vm_5o8",
        "colab_type": "code",
        "outputId": "7c8ea172-b4c7-4987-9b9f-2a41ad62e423",
        "colab": {
          "base_uri": "https://localhost:8080/",
          "height": 254
        }
      },
      "source": [
        "install.packages(\"tidyverse\")\n",
        "library(tidyverse)"
      ],
      "execution_count": 0,
      "outputs": [
        {
          "output_type": "stream",
          "text": [
            "Installing package into ‘/usr/local/lib/R/site-library’\n",
            "(as ‘lib’ is unspecified)\n",
            "\n",
            "── \u001b[1mAttaching packages\u001b[22m ─────────────────────────────────────── tidyverse 1.3.0 ──\n",
            "\n",
            "\u001b[32m✔\u001b[39m \u001b[34mggplot2\u001b[39m 3.3.0     \u001b[32m✔\u001b[39m \u001b[34mpurrr  \u001b[39m 0.3.4\n",
            "\u001b[32m✔\u001b[39m \u001b[34mtibble \u001b[39m 3.0.1     \u001b[32m✔\u001b[39m \u001b[34mdplyr  \u001b[39m 0.8.5\n",
            "\u001b[32m✔\u001b[39m \u001b[34mtidyr  \u001b[39m 1.0.2     \u001b[32m✔\u001b[39m \u001b[34mstringr\u001b[39m 1.4.0\n",
            "\u001b[32m✔\u001b[39m \u001b[34mreadr  \u001b[39m 1.3.1     \u001b[32m✔\u001b[39m \u001b[34mforcats\u001b[39m 0.5.0\n",
            "\n",
            "── \u001b[1mConflicts\u001b[22m ────────────────────────────────────────── tidyverse_conflicts() ──\n",
            "\u001b[31m✖\u001b[39m \u001b[34mdplyr\u001b[39m::\u001b[32mfilter()\u001b[39m masks \u001b[34mstats\u001b[39m::filter()\n",
            "\u001b[31m✖\u001b[39m \u001b[34mdplyr\u001b[39m::\u001b[32mlag()\u001b[39m    masks \u001b[34mstats\u001b[39m::lag()\n",
            "\n"
          ],
          "name": "stderr"
        }
      ]
    },
    {
      "cell_type": "code",
      "metadata": {
        "id": "mvlfO2I7JGT7",
        "colab_type": "code",
        "colab": {}
      },
      "source": [
        "nome = readline(\"Informe seu nome: \"); \n",
        "idade = as.integer(readline(\"Informe sua idade: \")); \n",
        "salario = as.double(readline(\"Informe seu salário: R$ \")); \n",
        "sexo = readline(\"Informe seu sexo [f ou m]\")\n",
        "est_civil = readline(\"Informe seu estado civil [s, c, v ou d]: \");\n",
        "\n",
        "while(str_length(nome) <= 3) { \n",
        "    nome = readline(\"Informe seu nome: \"); \n",
        "} \n",
        "while(idade < 0 | idade > 150) { \n",
        "    idade = readline(\"Informe sua idade: \"); \n",
        "} while(salario < 0) { \n",
        "    salario = readline(\"Informe seu salário: R$ \"); \n",
        "}\n",
        "#while(sexo != 'f' | sexo != 'm') {\n",
        "#    est_civil = readline(\"Informe seu estado civil [s, c, v ou d]: \");\n",
        "#}\n",
        "#while(est_civil != 's' | est_civil != 'c' | est_civil != 'v' | est_civil != 'd') {\n",
        "#    est_civil = readline(\"Informe seu estado civil [s, c, v ou d]: \");\n",
        "#}"
      ],
      "execution_count": 0,
      "outputs": []
    },
    {
      "cell_type": "markdown",
      "metadata": {
        "id": "_OGQmoYA08bI",
        "colab_type": "text"
      },
      "source": [
        "Supondo que a população de um país A seja da ordem de 80000 habitantes com uma taxa anual de crescimento de 3% e que a população de B seja 200000 habitantes com uma taxa de crescimento de 1.5%.<br><br> Crie um algoritmo em R que calcule e escreva o número de anos necessários para que a população do país A ultrapasse ou iguale a população do país B, mantidas as taxas de crescimento."
      ]
    },
    {
      "cell_type": "markdown",
      "metadata": {
        "id": "nHZohzwDw34J",
        "colab_type": "text"
      },
      "source": [
        "Resolução:\n",
        "\n",
        "    Adotando crescimento exponencial, ano inicial = 0, população inicial = P0 e taxa anual de crescimento = i\n",
        "    P(t) = P0 * (1 + i) ^ t\n",
        "    A = 80000 * (1 + 0.030) ^ t\n",
        "    B = 200000 * (1 + 0.015) ^ t\n",
        "\n",
        "Igualando as populações das cidades A e B e isolando a variável t:\n",
        "\n",
        "    80000 * (1 + 0.030) ^ t = 200000 * (1 + 0.015) ^ t\n",
        "    (1 + 0.030) ^ t / (1 + 0.015) ^ t = 200000 / 80000\n",
        "    (1.030/1.015) ^ t - 2.5 = 0"
      ]
    },
    {
      "cell_type": "code",
      "metadata": {
        "id": "xxgmQ5j21Abx",
        "colab_type": "code",
        "outputId": "afcd748b-1022-4d4a-ff83-b5679e96fc9e",
        "colab": {
          "base_uri": "https://localhost:8080/",
          "height": 214
        }
      },
      "source": [
        "tempo <- function(t) (1.030/1.015) ^ t - 2.5\n",
        "raiz = uniroot(tempo, c(0,100))\n",
        "raiz"
      ],
      "execution_count": 0,
      "outputs": [
        {
          "output_type": "display_data",
          "data": {
            "text/plain": [
              "$root\n",
              "[1] 62.45937\n",
              "\n",
              "$f.root\n",
              "[1] 4.096896e-08\n",
              "\n",
              "$iter\n",
              "[1] 6\n",
              "\n",
              "$init.it\n",
              "[1] NA\n",
              "\n",
              "$estim.prec\n",
              "[1] 6.103516e-05\n"
            ],
            "text/latex": "\\begin{description}\n\\item[\\$root] 62.4593658305978\n\\item[\\$f.root] 4.09689637770327e-08\n\\item[\\$iter] 6\n\\item[\\$init.it] <NA>\n\\item[\\$estim.prec] 6.10351562784217e-05\n\\end{description}\n",
            "text/markdown": "$root\n:   62.4593658305978\n$f.root\n:   4.09689637770327e-08\n$iter\n:   6\n$init.it\n:   &lt;NA&gt;\n$estim.prec\n:   6.10351562784217e-05\n\n\n",
            "text/html": [
              "<dl>\n",
              "\t<dt>$root</dt>\n",
              "\t\t<dd>62.4593658305978</dd>\n",
              "\t<dt>$f.root</dt>\n",
              "\t\t<dd>4.09689637770327e-08</dd>\n",
              "\t<dt>$iter</dt>\n",
              "\t\t<dd>6</dd>\n",
              "\t<dt>$init.it</dt>\n",
              "\t\t<dd>&lt;NA&gt;</dd>\n",
              "\t<dt>$estim.prec</dt>\n",
              "\t\t<dd>6.10351562784217e-05</dd>\n",
              "</dl>\n"
            ]
          },
          "metadata": {
            "tags": []
          }
        }
      ]
    },
    {
      "cell_type": "markdown",
      "metadata": {
        "id": "kP9TOwKo1AnS",
        "colab_type": "text"
      },
      "source": [
        "Desenvolva um gerador de tabuada, capaz de gerar a tabuada de qualquer número inteiro entre 1 a 10. O usuário deve informar de qual numero ele deseja ver a tabuada. A saída deve ser conforme o exemplo abaixo:\n",
        "Tabuada de 5:<br>\n",
        "5 X 1 = 5<br>\n",
        "5 X 2 = 10<br>\n",
        "...<br>\n",
        "5 X 10 = 50<br>"
      ]
    },
    {
      "cell_type": "code",
      "metadata": {
        "id": "Tj5xsjC-1D5I",
        "colab_type": "code",
        "outputId": "bfb8bd14-4c89-4fe3-85cf-bcfc878a688b",
        "colab": {
          "base_uri": "https://localhost:8080/",
          "height": 231
        }
      },
      "source": [
        "tabuada <- function(fator) {\n",
        "  produto <- vector(mode = \"list\", length = 10);\n",
        "  for (i in 1:10) \n",
        "    produto[i] = i * fator\n",
        "  \n",
        "  return(produto)\n",
        "}\n",
        "\n",
        "fator <- as.integer(readline(\"Informe um número que queira saber a tabuada [1 a 10]: \"));\n",
        "tabuada(fator)"
      ],
      "execution_count": 0,
      "outputs": [
        {
          "output_type": "stream",
          "text": [
            "Informe um número que queira saber a tabuada [1 a 10]: 5\n"
          ],
          "name": "stdout"
        },
        {
          "output_type": "display_data",
          "data": {
            "text/plain": [
              "[[1]]\n",
              "[1] 5\n",
              "\n",
              "[[2]]\n",
              "[1] 10\n",
              "\n",
              "[[3]]\n",
              "[1] 15\n",
              "\n",
              "[[4]]\n",
              "[1] 20\n",
              "\n",
              "[[5]]\n",
              "[1] 25\n",
              "\n",
              "[[6]]\n",
              "[1] 30\n",
              "\n",
              "[[7]]\n",
              "[1] 35\n",
              "\n",
              "[[8]]\n",
              "[1] 40\n",
              "\n",
              "[[9]]\n",
              "[1] 45\n",
              "\n",
              "[[10]]\n",
              "[1] 50\n"
            ],
            "text/latex": "\\begin{enumerate}\n\\item 5\n\\item 10\n\\item 15\n\\item 20\n\\item 25\n\\item 30\n\\item 35\n\\item 40\n\\item 45\n\\item 50\n\\end{enumerate}\n",
            "text/markdown": "1. 5\n2. 10\n3. 15\n4. 20\n5. 25\n6. 30\n7. 35\n8. 40\n9. 45\n10. 50\n\n\n",
            "text/html": [
              "<ol>\n",
              "\t<li>5</li>\n",
              "\t<li>10</li>\n",
              "\t<li>15</li>\n",
              "\t<li>20</li>\n",
              "\t<li>25</li>\n",
              "\t<li>30</li>\n",
              "\t<li>35</li>\n",
              "\t<li>40</li>\n",
              "\t<li>45</li>\n",
              "\t<li>50</li>\n",
              "</ol>\n"
            ]
          },
          "metadata": {
            "tags": []
          }
        }
      ]
    },
    {
      "cell_type": "markdown",
      "metadata": {
        "id": "6vgD9pl81EGd",
        "colab_type": "text"
      },
      "source": [
        "Crie um algoritmo em R que leia três números e mostre o maior e o menor deles."
      ]
    },
    {
      "cell_type": "code",
      "metadata": {
        "id": "3h1VOEuR1KGz",
        "colab_type": "code",
        "outputId": "4147fab7-c596-4a40-d12d-e66783725173",
        "colab": {
          "base_uri": "https://localhost:8080/",
          "height": 85
        }
      },
      "source": [
        "num1 <- as.double(readline(\"Informe um número: \"));\n",
        "num2 <- as.double(readline(\"Informe outro número: \"));\n",
        "num3 <- as.double(readline(\"Informe mais um número: \"));\n",
        "\n",
        "lista <- c(num1, num2, num3)\n",
        "\n",
        "maior <- max(lista)\n",
        "menor <- min(lista)\n",
        "\n",
        "sprintf(\"O menor número é %.2f e o maior número é %.2f\", menor, maior)"
      ],
      "execution_count": 0,
      "outputs": [
        {
          "output_type": "stream",
          "text": [
            "Informe um número: 7\n",
            "Informe outro número: 8\n",
            "Informe mais um número: 9.517\n"
          ],
          "name": "stdout"
        },
        {
          "output_type": "display_data",
          "data": {
            "text/plain": [
              "[1] \"O menor número é 7.00 e o maior número é 9.52\""
            ],
            "text/latex": "'O menor número é 7.00 e o maior número é 9.52'",
            "text/markdown": "'O menor número é 7.00 e o maior número é 9.52'",
            "text/html": [
              "'O menor número é 7.00 e o maior número é 9.52'"
            ]
          },
          "metadata": {
            "tags": []
          }
        }
      ]
    },
    {
      "cell_type": "markdown",
      "metadata": {
        "id": "QXhvPnMQ1Kd6",
        "colab_type": "text"
      },
      "source": [
        "Crie um algoritmo em R que peça 2 números, base e expoente, calcule e mostre o primeiro número elevado ao segundo número. Não utilize a função de potência da linguagem."
      ]
    },
    {
      "cell_type": "code",
      "metadata": {
        "id": "ywZkuhmt1N7l",
        "colab_type": "code",
        "outputId": "dd043a50-cfcc-4777-b467-00bcf791452b",
        "colab": {
          "base_uri": "https://localhost:8080/",
          "height": 68
        }
      },
      "source": [
        "base <- as.integer(readline(\"Informe a base da potência (número natural): \"));\n",
        "expoente <- as.integer(readline(\"Informe o expoente da potência (número natural): \"));\n",
        "\n",
        "potencia <- 1;\n",
        "i = 0;\n",
        "\n",
        "while (i < expoente) {\n",
        "    potencia = potencia * base;\n",
        "    i = i + 1;\n",
        "}\n",
        "\n",
        "potencia"
      ],
      "execution_count": 0,
      "outputs": [
        {
          "output_type": "stream",
          "text": [
            "Informe a base da potência (número natural): 0\n",
            "Informe o expoente da potência (número natural): 1\n"
          ],
          "name": "stdout"
        },
        {
          "output_type": "display_data",
          "data": {
            "text/plain": [
              "[1] 0"
            ],
            "text/latex": "0",
            "text/markdown": "0",
            "text/html": [
              "0"
            ]
          },
          "metadata": {
            "tags": []
          }
        }
      ]
    },
    {
      "cell_type": "markdown",
      "metadata": {
        "id": "F-rpjggB1T5G",
        "colab_type": "text"
      },
      "source": [
        "Crie um algoritmo em R que peça 10 números inteiros, calcule e mostre a quantidade de números pares e a quantidade de números impares."
      ]
    },
    {
      "cell_type": "code",
      "metadata": {
        "id": "nvMchfOZ2_vC",
        "colab_type": "code",
        "outputId": "485b608d-8e0c-46ee-f28d-55a0b602c8fc",
        "colab": {
          "base_uri": "https://localhost:8080/",
          "height": 220
        }
      },
      "source": [
        "lista <- vector(length = 10);\n",
        "\n",
        "for (i in 1:10) {\n",
        "    lista[i] <- as.integer(readline(\"Informe um número: \"));\n",
        "}\n",
        "\n",
        "pares = lista[lista %% 2 == 0];\n",
        "impares = lista[lista %% 2 != 0];\n",
        "\n",
        "print(pares);\n",
        "print(impares);\n"
      ],
      "execution_count": 0,
      "outputs": [
        {
          "output_type": "stream",
          "text": [
            "Informe um número: 1\n",
            "Informe um número: 2\n",
            "Informe um número: 3\n",
            "Informe um número: 4\n",
            "Informe um número: 5\n",
            "Informe um número: 6\n",
            "Informe um número: 7\n",
            "Informe um número: 8\n",
            "Informe um número: 9\n",
            "Informe um número: 10\n",
            "[1]  2  4  6  8 10\n",
            "[1] 1 3 5 7 9\n"
          ],
          "name": "stdout"
        }
      ]
    },
    {
      "cell_type": "markdown",
      "metadata": {
        "id": "C-H4OWh03DFn",
        "colab_type": "text"
      },
      "source": [
        "Um funcionário de uma empresa recebe aumento salarial anualmente: Sabe-se que: Esse funcionário foi contratado em 1995, com salário inicial de R$ 1.000,00; Em 1996 recebeu aumento de 1,5% sobre seu salário inicial; A partir de 1997 (inclusive), os aumentos salariais sempre correspondem ao dobro do percentual do ano anterior. Crie um algoritmo em R que determine o salário atual desse funcionário. Após concluir isto, altere o programa permitindo que o usuário digite o salário inicial do funcionário"
      ]
    },
    {
      "cell_type": "markdown",
      "metadata": {
        "id": "cq6LZYI7o13q",
        "colab_type": "text"
      },
      "source": [
        "Resolução:\n",
        "    inicio = 1995 => R$ 1000,00\n",
        "\n",
        "    ano_seguinte = 1996 => (1 + 0.015*1) * 1000 = R$ 1015\n",
        "\n",
        "    ano_seguinte = 1997 => (1 + 0.015*2) * 1000 = R$ 1030\n",
        "\n",
        "    ...\n",
        "\n",
        "    salario_atual = salario_inicial * (1 + 0.015 * 2 ** (tempo-1))\n",
        "    \n",
        "\n"
      ]
    },
    {
      "cell_type": "code",
      "metadata": {
        "id": "vs5qFAKx3Eyi",
        "colab_type": "code",
        "outputId": "161031cb-9e1b-4745-bb1d-d5858e3dea2e",
        "colab": {
          "base_uri": "https://localhost:8080/",
          "height": 85
        }
      },
      "source": [
        "ano_inicial = as.integer(readline(\"Em qual ano que você começou a trabalhar? \"))\n",
        "salario_inicial = as.double(readline(\"Qual era o seu salário inicial? R$ \"))\n",
        "ano_atual = as.integer(readline(\"Qual é o ano atual? \"))\n",
        "\n",
        "tempo = ano_atual - ano_inicial\n",
        "\n",
        "salario_atual = salario_inicial * (1 + 0.015 * 2 ^ (tempo-1))\n",
        "\n",
        "sprintf(\"Em %d você estava ganhando/ganhava R$ %.2f\", ano_atual, salario_atual)"
      ],
      "execution_count": 0,
      "outputs": [
        {
          "output_type": "stream",
          "text": [
            "Em qual ano que você começou a trabalhar? 1995\n",
            "Qual era o seu salário inicial? R$ 1000\n",
            "Qual é o ano atual? 1997\n"
          ],
          "name": "stdout"
        },
        {
          "output_type": "display_data",
          "data": {
            "text/plain": [
              "[1] \"Em 1997 você estava ganhando/ganhava R$ 1030.00\""
            ],
            "text/latex": "'Em 1997 você estava ganhando/ganhava R\\$ 1030.00'",
            "text/markdown": "'Em 1997 você estava ganhando/ganhava R$ 1030.00'",
            "text/html": [
              "'Em 1997 você estava ganhando/ganhava R$ 1030.00'"
            ]
          },
          "metadata": {
            "tags": []
          }
        }
      ]
    },
    {
      "cell_type": "markdown",
      "metadata": {
        "id": "PGccudSo3E54",
        "colab_type": "text"
      },
      "source": [
        "Crie um algoritmo em R com uma função que necessite de um argumento. A função retorna o valor de caractere ‘P’, se seu argumento for positivo, e ‘N’, se seu argumento for zero ou negativo."
      ]
    },
    {
      "cell_type": "code",
      "metadata": {
        "id": "_zfLyopV3IqV",
        "colab_type": "code",
        "outputId": "925c0220-871d-4e54-ac37-5ed6c337467b",
        "colab": {
          "base_uri": "https://localhost:8080/",
          "height": 68
        }
      },
      "source": [
        "numero = as.integer(readline(\"Informe um número inteiro: \"));\n",
        "\n",
        "ifelse(numero > 0, print('P'), print('N'))"
      ],
      "execution_count": 0,
      "outputs": [
        {
          "output_type": "stream",
          "text": [
            "Informe um número inteiro: 0\n",
            "[1] \"N\"\n"
          ],
          "name": "stdout"
        },
        {
          "output_type": "display_data",
          "data": {
            "text/plain": [
              "[1] \"N\""
            ],
            "text/latex": "'N'",
            "text/markdown": "'N'",
            "text/html": [
              "'N'"
            ]
          },
          "metadata": {
            "tags": []
          }
        }
      ]
    },
    {
      "cell_type": "markdown",
      "metadata": {
        "id": "bu3Zyati3Iwc",
        "colab_type": "text"
      },
      "source": [
        "Construa uma função que receba uma data no formato DD/MM/AAAA e devolva uma string no formato D de mesPorExtenso de AAAA. Opcionalmente, valide a data e retorne NULL caso a data seja inválida."
      ]
    },
    {
      "cell_type": "code",
      "metadata": {
        "id": "Peo4D5Sz3PDC",
        "colab_type": "code",
        "colab": {
          "base_uri": "https://localhost:8080/",
          "height": 237
        },
        "outputId": "b88fa5b3-b87d-474d-8a8a-e2eb91967c7a"
      },
      "source": [
        "library(tidyverse)\n",
        "data <- readline(\"Informe uma data no formato [DD/MM/AAAA]: \")\n",
        "\n",
        "data_separada <- str_split_fixed(data, \"/\", n=3)\n",
        "dia <- as.integer(data_separada[1])\n",
        "mes <- as.integer(data_separada[2])\n",
        "ano <- as.integer(data_separada[3])\n",
        "\n",
        "meses <- c(\"janeiro\", \"fevereiro\", \"março\", \"abril\", \"maio\", \"junho\", \n",
        "          \"julho\", \"agosto\", \"setembro\", \"outubro\", \"novembro\", \"dezembro\")\n",
        "for (i in 1:12) {\n",
        "  if (mes == i) {\n",
        "    nome_mes = meses[i]\n",
        "  }\n",
        "}\n",
        "\n",
        "sprintf(\"%d de %s de %d\", dia, nome_mes, ano)"
      ],
      "execution_count": 1,
      "outputs": [
        {
          "output_type": "stream",
          "text": [
            "── \u001b[1mAttaching packages\u001b[22m ─────────────────────────────────────── tidyverse 1.3.0 ──\n",
            "\n",
            "\u001b[32m✔\u001b[39m \u001b[34mggplot2\u001b[39m 3.3.0     \u001b[32m✔\u001b[39m \u001b[34mpurrr  \u001b[39m 0.3.4\n",
            "\u001b[32m✔\u001b[39m \u001b[34mtibble \u001b[39m 3.0.1     \u001b[32m✔\u001b[39m \u001b[34mdplyr  \u001b[39m 0.8.5\n",
            "\u001b[32m✔\u001b[39m \u001b[34mtidyr  \u001b[39m 1.0.2     \u001b[32m✔\u001b[39m \u001b[34mstringr\u001b[39m 1.4.0\n",
            "\u001b[32m✔\u001b[39m \u001b[34mreadr  \u001b[39m 1.3.1     \u001b[32m✔\u001b[39m \u001b[34mforcats\u001b[39m 0.5.0\n",
            "\n",
            "── \u001b[1mConflicts\u001b[22m ────────────────────────────────────────── tidyverse_conflicts() ──\n",
            "\u001b[31m✖\u001b[39m \u001b[34mdplyr\u001b[39m::\u001b[32mfilter()\u001b[39m masks \u001b[34mstats\u001b[39m::filter()\n",
            "\u001b[31m✖\u001b[39m \u001b[34mdplyr\u001b[39m::\u001b[32mlag()\u001b[39m    masks \u001b[34mstats\u001b[39m::lag()\n",
            "\n"
          ],
          "name": "stderr"
        },
        {
          "output_type": "stream",
          "text": [
            "Informe uma data no formato [DD/MM/AAAA]: 25/10/1982\n"
          ],
          "name": "stdout"
        },
        {
          "output_type": "display_data",
          "data": {
            "text/plain": [
              "[1] \"25 de outubro de 1982\""
            ],
            "text/latex": "'25 de outubro de 1982'",
            "text/markdown": "'25 de outubro de 1982'",
            "text/html": [
              "'25 de outubro de 1982'"
            ]
          },
          "metadata": {
            "tags": []
          }
        }
      ]
    }
  ]
}