{
  "nbformat": 4,
  "nbformat_minor": 0,
  "metadata": {
    "colab": {
      "name": "POO.ipynb",
      "provenance": [],
      "collapsed_sections": [
        "fWdSdPQuPJYP",
        "GLekKo3oPc2h",
        "djld-aLZSQp5"
      ],
      "include_colab_link": true
    },
    "kernelspec": {
      "name": "python3",
      "display_name": "Python 3"
    }
  },
  "cells": [
    {
      "cell_type": "markdown",
      "metadata": {
        "id": "view-in-github",
        "colab_type": "text"
      },
      "source": [
        "<a href=\"https://colab.research.google.com/github/felipecgm/QODA---Python/blob/master/POO.ipynb\" target=\"_parent\"><img src=\"https://colab.research.google.com/assets/colab-badge.svg\" alt=\"Open In Colab\"/></a>"
      ]
    },
    {
      "cell_type": "markdown",
      "metadata": {
        "id": "P9qc_4U1sihN",
        "colab_type": "text"
      },
      "source": [
        "# **>>> Programação Orientada a Objetos(POO)**\n",
        "Maiores informações [AQUI](https://pt.wikipedia.org/wiki/Programa%C3%A7%C3%A3o_orientada_a_objetos)\n",
        "\n",
        "---\n",
        "\n",
        "Dados >>> Atributos/Comportamento >>> Métodos"
      ]
    },
    {
      "cell_type": "markdown",
      "metadata": {
        "id": "fWdSdPQuPJYP",
        "colab_type": "text"
      },
      "source": [
        "## **>>> Classes**\n",
        "\n",
        "---\n",
        "\n"
      ]
    },
    {
      "cell_type": "code",
      "metadata": {
        "id": "fzFA1i2FsSnK",
        "colab_type": "code",
        "colab": {}
      },
      "source": [
        "# Classes\n",
        "class Carro:\n",
        "  pass"
      ],
      "execution_count": 0,
      "outputs": []
    },
    {
      "cell_type": "code",
      "metadata": {
        "id": "UCBaGaZHQaJ4",
        "colab_type": "code",
        "outputId": "5f5859dc-f436-4886-9855-d7df395d7484",
        "colab": {
          "base_uri": "https://localhost:8080/",
          "height": 51
        }
      },
      "source": [
        "# Criando uma classe\n",
        "class Pessoa:\n",
        "  def __init__(self,nome,idade):\n",
        "    self.nome = nome\n",
        "    self.idade = idade\n",
        "\n",
        "b1 = Pessoa(\"Weber\", 27)\n",
        "print(b1.nome)\n",
        "b2 = Pessoa(\"Felipe\", 28)\n",
        "print(b2.nome, b2.idade)"
      ],
      "execution_count": 5,
      "outputs": [
        {
          "output_type": "stream",
          "text": [
            "Weber\n",
            "Felipe 28\n"
          ],
          "name": "stdout"
        }
      ]
    },
    {
      "cell_type": "code",
      "metadata": {
        "id": "WFkGFxTORRVl",
        "colab_type": "code",
        "outputId": "70c8000c-2ffb-4263-8f8d-d1c9ac42ba5f",
        "colab": {
          "base_uri": "https://localhost:8080/",
          "height": 34
        }
      },
      "source": [
        "# Atributo Getter\n",
        "getattr(b1, \"nome\")\n",
        "getattr(b2, \"nome\")"
      ],
      "execution_count": 7,
      "outputs": [
        {
          "output_type": "execute_result",
          "data": {
            "text/plain": [
              "'Felipe'"
            ]
          },
          "metadata": {
            "tags": []
          },
          "execution_count": 7
        }
      ]
    },
    {
      "cell_type": "code",
      "metadata": {
        "id": "FN_IrzeJRse-",
        "colab_type": "code",
        "outputId": "826b6529-35e7-4669-dee2-4ccfe9f351cf",
        "colab": {
          "base_uri": "https://localhost:8080/",
          "height": 51
        }
      },
      "source": [
        "# Atributo Setter\n",
        "setattr(b1, \"nome\", \"Web\")\n",
        "print(b1.nome)\n",
        "setattr(b2, \"idade\", 30)\n",
        "print(b2.idade)"
      ],
      "execution_count": 9,
      "outputs": [
        {
          "output_type": "stream",
          "text": [
            "Web\n",
            "30\n"
          ],
          "name": "stdout"
        }
      ]
    },
    {
      "cell_type": "markdown",
      "metadata": {
        "id": "GLekKo3oPc2h",
        "colab_type": "text"
      },
      "source": [
        "## **>>> Objetos**\n",
        "\n",
        "---\n",
        "\n"
      ]
    },
    {
      "cell_type": "code",
      "metadata": {
        "id": "BjIsd8bPJyw6",
        "colab_type": "code",
        "outputId": "cbb42bf4-5613-46c2-b059-67880de99f0e",
        "colab": {
          "base_uri": "https://localhost:8080/",
          "height": 34
        }
      },
      "source": [
        "# Objetos são instâncias de uma classe\n",
        "fusca = Carro()\n",
        "print(fusca)"
      ],
      "execution_count": 10,
      "outputs": [
        {
          "output_type": "stream",
          "text": [
            "<__main__.Carro object at 0x7f7a4cc9a358>\n"
          ],
          "name": "stdout"
        }
      ]
    },
    {
      "cell_type": "code",
      "metadata": {
        "id": "Aht9yvLlPo1V",
        "colab_type": "code",
        "colab": {
          "base_uri": "https://localhost:8080/",
          "height": 54
        },
        "outputId": "d112fe65-284a-425c-8427-d32eaa044c31"
      },
      "source": [
        "'''\n",
        "Todos tipos de dados em Python são objetos. \n",
        "Lista, inteiros, floating, booleanos e strings são classes.\n",
        "Ao utilizarmos o dir() recebemos a lista de seus métodos e funções.\n",
        "'''"
      ],
      "execution_count": 11,
      "outputs": [
        {
          "output_type": "execute_result",
          "data": {
            "text/plain": [
              "'\\nTodos tipos de dados em Python são objetos. \\nLista, inteiros, floating, booleanos e strings são classes.\\nAo utilizarmos o dir() recebemos a lista de seus métodos e funções.\\n'"
            ]
          },
          "metadata": {
            "tags": []
          },
          "execution_count": 11
        }
      ]
    },
    {
      "cell_type": "code",
      "metadata": {
        "id": "vb1Rb3B4QFmu",
        "colab_type": "code",
        "outputId": "bd4b94e4-d675-4cbf-b677-02fc50c99c35",
        "colab": {
          "base_uri": "https://localhost:8080/",
          "height": 34
        }
      },
      "source": [
        "# A variável abaixo é uma instância da classe \"list\"\n",
        "lista = [1,2,3,4,5]\n",
        "print(type(lista))"
      ],
      "execution_count": 12,
      "outputs": [
        {
          "output_type": "stream",
          "text": [
            "<class 'list'>\n"
          ],
          "name": "stdout"
        }
      ]
    },
    {
      "cell_type": "code",
      "metadata": {
        "id": "cQ0YiDmYKER_",
        "colab_type": "code",
        "colab": {}
      },
      "source": [
        "# Atributos e o método __init__(construtor)\n",
        "class Carro:\n",
        "  def __init__(self,qtde_rodas,cap_tanque,num_bancos,velocidade_max):\n",
        "    self.rodas = qtde_rodas\n",
        "    self.tanque = cap_tanque\n",
        "    self.bancos = num_bancos\n",
        "    self.velocidade = velocidade_max"
      ],
      "execution_count": 0,
      "outputs": []
    },
    {
      "cell_type": "code",
      "metadata": {
        "id": "AmUJDuhGKjT3",
        "colab_type": "code",
        "colab": {
          "base_uri": "https://localhost:8080/",
          "height": 34
        },
        "outputId": "3822f4dd-ec2b-44a8-d93a-9548e35be690"
      },
      "source": [
        "# Criando um objeto com atributos\n",
        "tesla = Carro(4,\"200 litros\",5,\"250km/h\")\n",
        "tesla.rodas\n",
        "tesla.tanque\n",
        "tesla.bancos\n",
        "tesla.velocidade"
      ],
      "execution_count": 26,
      "outputs": [
        {
          "output_type": "execute_result",
          "data": {
            "text/plain": [
              "'250km/h'"
            ]
          },
          "metadata": {
            "tags": []
          },
          "execution_count": 26
        }
      ]
    },
    {
      "cell_type": "code",
      "metadata": {
        "id": "PlDBxW4DLvQo",
        "colab_type": "code",
        "outputId": "ebded8e5-b14f-4c32-eeca-bb9fe760b08c",
        "colab": {
          "base_uri": "https://localhost:8080/",
          "height": 34
        }
      },
      "source": [
        "# Acessando os valores\n",
        "print(f\"Nosso veículo possui {tesla.rodas} rodas, tanque com capacidade de até {tesla.tanque}, {tesla.bancos} assentos e acelera até {tesla.velocidade}\")"
      ],
      "execution_count": 27,
      "outputs": [
        {
          "output_type": "stream",
          "text": [
            "Nosso veículo possui 4 rodas, tanque com capacidade de até 200 litros, 5 assentos e acelera até 250km/h\n"
          ],
          "name": "stdout"
        }
      ]
    },
    {
      "cell_type": "code",
      "metadata": {
        "id": "lX8yRgohMdzz",
        "colab_type": "code",
        "outputId": "5856252f-7d02-418e-a9f2-6da469deea51",
        "colab": {
          "base_uri": "https://localhost:8080/",
          "height": 34
        }
      },
      "source": [
        "# Alterando valores\n",
        "tesla.rodas = 2\n",
        "print(tesla.rodas)"
      ],
      "execution_count": 28,
      "outputs": [
        {
          "output_type": "stream",
          "text": [
            "2\n"
          ],
          "name": "stdout"
        }
      ]
    },
    {
      "cell_type": "markdown",
      "metadata": {
        "id": "djld-aLZSQp5",
        "colab_type": "text"
      },
      "source": [
        "## **>>> Métodos**\n",
        "\n",
        "---\n",
        "\n"
      ]
    },
    {
      "cell_type": "code",
      "metadata": {
        "id": "RvVZBk75STyB",
        "colab_type": "code",
        "colab": {}
      },
      "source": [
        "# Criando método com valor default\n",
        "class Turista():\n",
        "  def __init__(self, nome, nacionalidade = 'brasileira'):\n",
        "    self.nome = nome\n",
        "    self.nacionalidade = nacionalidade"
      ],
      "execution_count": 0,
      "outputs": []
    },
    {
      "cell_type": "code",
      "metadata": {
        "id": "QmXbPUZrS4-8",
        "colab_type": "code",
        "colab": {}
      },
      "source": [
        "# Criando diversos métodos para uma mesma classe\n",
        "class Turista():\n",
        "  def __init__(self, nome, nacionalidade = \"brasileira\"):\n",
        "    self.nome = nome\n",
        "    self.nacionalidade = nacionalidade\n",
        "  def ConfigNacionalidade(self, nova_nacionalidade):\n",
        "    self.nacionalidade = nova_nacionalidade\n",
        "  def ConfigNome(self, novo_nome):\n",
        "    self.nome = novo_nome"
      ],
      "execution_count": 0,
      "outputs": []
    },
    {
      "cell_type": "code",
      "metadata": {
        "id": "R7b7n3YNTTBQ",
        "colab_type": "code",
        "outputId": "26c57c7e-4bc2-4b0a-db1a-716ecd69cd48",
        "colab": {
          "base_uri": "https://localhost:8080/",
          "height": 34
        }
      },
      "source": [
        "t1 = Turista(\"Anita\")\n",
        "print(t1.nome, t1.nacionalidade)"
      ],
      "execution_count": 32,
      "outputs": [
        {
          "output_type": "stream",
          "text": [
            "Anita brasileira\n"
          ],
          "name": "stdout"
        }
      ]
    },
    {
      "cell_type": "code",
      "metadata": {
        "id": "1pljzYHdTmgy",
        "colab_type": "code",
        "outputId": "210a0c13-e432-40f0-96c4-8ecca756af27",
        "colab": {
          "base_uri": "https://localhost:8080/",
          "height": 34
        }
      },
      "source": [
        "t1.ConfigNacionalidade(\"Espanhola\")\n",
        "print(t1.nome, t1.nacionalidade)"
      ],
      "execution_count": 33,
      "outputs": [
        {
          "output_type": "stream",
          "text": [
            "Anita Espanhola\n"
          ],
          "name": "stdout"
        }
      ]
    },
    {
      "cell_type": "markdown",
      "metadata": {
        "id": "ni8oRAgJOBgf",
        "colab_type": "text"
      },
      "source": [
        "## **>>> Herança**\n",
        "---\n",
        "\n",
        "Ao criar uma nova classe você pode querer \"herdar\" os atributos de outra classe."
      ]
    },
    {
      "cell_type": "code",
      "metadata": {
        "id": "PnqISTr1OLRY",
        "colab_type": "code",
        "outputId": "9241773e-1863-4cae-d00d-053f2318dfbf",
        "colab": {
          "base_uri": "https://localhost:8080/",
          "height": 34
        }
      },
      "source": [
        "# Classe Carro\n",
        "class Carro:\n",
        "  def __init__(self,rodas,tanque,bancos,velocidade):\n",
        "    self.rodas = rodas\n",
        "    self.tanque = tanque\n",
        "    self.bancos = bancos\n",
        "    self.velocidade = velocidade\n",
        "\n",
        "# Classe Carro Elétrico\n",
        "class CarroEletrico:\n",
        "  def __init__(self,rodas,tanque,bancos,velocidade):\n",
        "    Carro.__init__(self,rodas,tanque,bancos,velocidade)\n",
        "\n",
        "carrinho = CarroEletrico(4,\"100 litros\",5,\"180 km/h\")\n",
        "print(carrinho.rodas)"
      ],
      "execution_count": 35,
      "outputs": [
        {
          "output_type": "stream",
          "text": [
            "4\n"
          ],
          "name": "stdout"
        }
      ]
    },
    {
      "cell_type": "markdown",
      "metadata": {
        "id": "9NvFBdSNVzN6",
        "colab_type": "text"
      },
      "source": [
        "# **>>> Diferença entre Métodos e Funções**\n",
        "\n",
        "---\n",
        "\n",
        "Função: bloco para realizar tarefa específica, podendo retornar, ou não, valores.\n",
        "\n",
        "Método: Tem de estar sempre associado a objetos/classes."
      ]
    },
    {
      "cell_type": "code",
      "metadata": {
        "id": "RX6C7zGvWZJe",
        "colab_type": "code",
        "outputId": "d10004db-d322-4157-973b-4be0f5abadb9",
        "colab": {
          "base_uri": "https://localhost:8080/",
          "height": 34
        }
      },
      "source": [
        "# Função\n",
        "def soma(n1,n2):\n",
        "  return(n1+n2)\n",
        "soma(1,1)"
      ],
      "execution_count": 36,
      "outputs": [
        {
          "output_type": "execute_result",
          "data": {
            "text/plain": [
              "2"
            ]
          },
          "metadata": {
            "tags": []
          },
          "execution_count": 36
        }
      ]
    },
    {
      "cell_type": "code",
      "metadata": {
        "id": "Pb7DKjHtWhYj",
        "colab_type": "code",
        "outputId": "b946b776-a68e-406c-e198-498aadd8b9ac",
        "colab": {
          "base_uri": "https://localhost:8080/",
          "height": 34
        }
      },
      "source": [
        "# Método\n",
        "class Metodo(object):\n",
        "   def metod(self):\n",
        "      print(\"Eu sou um método\")\n",
        "m1 = Metodo()\n",
        "m1.metod()"
      ],
      "execution_count": 37,
      "outputs": [
        {
          "output_type": "stream",
          "text": [
            "Eu sou um método\n"
          ],
          "name": "stdout"
        }
      ]
    }
  ]
}