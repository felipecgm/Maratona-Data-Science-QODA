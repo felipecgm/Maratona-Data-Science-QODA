{
  "nbformat": 4,
  "nbformat_minor": 0,
  "metadata": {
    "colab": {
      "name": "Fase2.ipynb",
      "provenance": [],
      "include_colab_link": true
    },
    "kernelspec": {
      "name": "python3",
      "display_name": "Python 3"
    }
  },
  "cells": [
    {
      "cell_type": "markdown",
      "metadata": {
        "id": "view-in-github",
        "colab_type": "text"
      },
      "source": [
        "<a href=\"https://colab.research.google.com/github/felipecgm/QODA---Python/blob/master/Fase2.ipynb\" target=\"_parent\"><img src=\"https://colab.research.google.com/assets/colab-badge.svg\" alt=\"Open In Colab\"/></a>"
      ]
    },
    {
      "cell_type": "markdown",
      "metadata": {
        "id": "CYNAmoj4zSXl",
        "colab_type": "text"
      },
      "source": [
        "Crie um algoritmo em Python que peça 2 números e imprima o maior deles."
      ]
    },
    {
      "cell_type": "code",
      "metadata": {
        "id": "ViAfpy3GzPN-",
        "colab_type": "code",
        "colab": {
          "base_uri": "https://localhost:8080/",
          "height": 68
        },
        "outputId": "350d6e4d-c2ed-41fb-a372-aab598bd2809"
      },
      "source": [
        "no_1 = float(input(\"Informe um número real: \"))\n",
        "no_2 = float(input(\"Informe outro número real: \"))\n",
        "\n",
        "if no_1 > no_2:\n",
        "    print(f\"O número {no_1:.2f} é maior\")\n",
        "else:\n",
        "    print(f\"O número {no_2:.2f} é maior\")"
      ],
      "execution_count": 2,
      "outputs": [
        {
          "output_type": "stream",
          "text": [
            "Informe um número real: 0\n",
            "Informe outro número real: 0\n",
            "O número 0.00 é maior\n"
          ],
          "name": "stdout"
        }
      ]
    },
    {
      "cell_type": "markdown",
      "metadata": {
        "id": "gdMis92izSmQ",
        "colab_type": "text"
      },
      "source": [
        "Crie um algoritmo em Python que peça um valor e mostre na tela se o valor é positivo ou negativo."
      ]
    },
    {
      "cell_type": "code",
      "metadata": {
        "id": "BFpWkdCBz_zh",
        "colab_type": "code",
        "colab": {
          "base_uri": "https://localhost:8080/",
          "height": 51
        },
        "outputId": "3dcf9688-f6ab-42c1-9c15-80d6d2debc3d"
      },
      "source": [
        "numero = int(input(\"Informe um número inteiro: \"))\n",
        "\n",
        "if numero % 2 == 0:\n",
        "    print(f\"O número {numero} é par\")\n",
        "else:\n",
        "    print(f\"O número {numero} é ímpar\")"
      ],
      "execution_count": 4,
      "outputs": [
        {
          "output_type": "stream",
          "text": [
            "Informe um número inteiro: 0\n",
            "O número 0 é par\n"
          ],
          "name": "stdout"
        }
      ]
    },
    {
      "cell_type": "markdown",
      "metadata": {
        "id": "E_0l_Vx6zSo2",
        "colab_type": "text"
      },
      "source": [
        "Crie um algoritmo em Python que verifique se uma letra digitada é vogal ou consoante."
      ]
    },
    {
      "cell_type": "code",
      "metadata": {
        "id": "KwJf7XZS0AZW",
        "colab_type": "code",
        "colab": {
          "base_uri": "https://localhost:8080/",
          "height": 51
        },
        "outputId": "854b5d95-28eb-4174-cc58-96d40f5f2a12"
      },
      "source": [
        "letra = str(input(\"Informe uma letra: \"))\n",
        "vogais = ['a', 'A', 'e', 'E', 'i', 'I', 'o', 'O', 'u', 'U']\n",
        "\n",
        "if letra in vogais:\n",
        "    print(f\"A letra {letra} é uma vogal\")\n",
        "else:\n",
        "    print(f\"A letra {letra} é uma consoante\")"
      ],
      "execution_count": 7,
      "outputs": [
        {
          "output_type": "stream",
          "text": [
            "Informe uma letra: D\n",
            "A letra D é uma consoante\n"
          ],
          "name": "stdout"
        }
      ]
    },
    {
      "cell_type": "markdown",
      "metadata": {
        "id": "1i4VCiiczSrL",
        "colab_type": "text"
      },
      "source": [
        "Faça um programa para a leitura de duas notas parciais de um aluno. O programa deve calcular a média alcançada por aluno e apresentar:\n",
        "* \"Aprovado\", se a média alcançada for maior ou igual a sete;\n",
        "* \"Reprovado\", se a média for menor do que sete;\n",
        "* \"Aprovado com Distinção\", se a média for igual a 10."
      ]
    },
    {
      "cell_type": "code",
      "metadata": {
        "id": "yoW67hjA0BHy",
        "colab_type": "code",
        "colab": {
          "base_uri": "https://localhost:8080/",
          "height": 68
        },
        "outputId": "c717f1c8-c18f-4471-fbda-ccb867ef9e38"
      },
      "source": [
        "nota1 = float(input(\"Informe a primeira nota: \"))\n",
        "nota2 = float(input(\"Informe a segunda nota: \"))\n",
        "\n",
        "media = (nota1 + nota2) / 2\n",
        "\n",
        "if media == 10:\n",
        "    print(f\"Sua média é {media:.2f} e você foi aprovado com distinção! :)\")\n",
        "elif media >= 7:\n",
        "    print(f\"Sua média é {media:.2f} e você foi aprovado! :)\")\n",
        "else:\n",
        "    print(f\"Sua média é {media:.2f} e você foi reprovado! :(\")"
      ],
      "execution_count": 12,
      "outputs": [
        {
          "output_type": "stream",
          "text": [
            "Informe a primeira nota: 5\n",
            "Informe a segunda nota: 5\n",
            "Sua média é 5.00 e você foi reprovado! :(\n"
          ],
          "name": "stdout"
        }
      ]
    },
    {
      "cell_type": "markdown",
      "metadata": {
        "id": "4ep7kezvzStO",
        "colab_type": "text"
      },
      "source": [
        "Crie um algoritmo em Python que leia três números e mostre o maior deles."
      ]
    },
    {
      "cell_type": "code",
      "metadata": {
        "id": "6K6IHWdr0Blt",
        "colab_type": "code",
        "colab": {
          "base_uri": "https://localhost:8080/",
          "height": 85
        },
        "outputId": "f8064088-73cf-484c-deca-fe11f696ecd8"
      },
      "source": [
        "num1 = float(input(\"Informe um número real: \"))\n",
        "num2 = float(input(\"Informe outro número real: \"))\n",
        "num3 = float(input(\"Informe mais um número real: \"))\n",
        "\n",
        "if num1 > num2 and num1 > num3:\n",
        "    print(f\"O número {num1:.2f} é maior\")\n",
        "elif num2 > num1 and num2 > num3:\n",
        "    print(f\"O número {num2:.2f} é maior\")\n",
        "else:\n",
        "    print(f\"O número {num3:.2f} é maior\")"
      ],
      "execution_count": 15,
      "outputs": [
        {
          "output_type": "stream",
          "text": [
            "Informe um número real: 5.001\n",
            "Informe outro número real: 5.0001\n",
            "Informe mais um número real: 5.000001\n",
            "O número 5.00 é maior\n"
          ],
          "name": "stdout"
        }
      ]
    },
    {
      "cell_type": "markdown",
      "metadata": {
        "id": "u6__NaXqzeYg",
        "colab_type": "text"
      },
      "source": [
        "Crie um algoritmo em Python que leia três números e mostre o maior e o menor deles."
      ]
    },
    {
      "cell_type": "code",
      "metadata": {
        "id": "mm2L7g3x0Cfx",
        "colab_type": "code",
        "colab": {
          "base_uri": "https://localhost:8080/",
          "height": 101
        },
        "outputId": "f6870bcf-5f82-4603-aa6b-a363cb32421d"
      },
      "source": [
        "numero1 = float(input(\"Informe um número real: \"))\n",
        "numero2 = float(input(\"Informe outro número real: \"))\n",
        "numero3 = float(input(\"Informe mais um número real: \"))\n",
        "\n",
        "if numero1 > numero2 and numero2 > numero3:\n",
        "    print(f\"O número {numero1:.2f} é maior\")\n",
        "    print(f\"O número {numero3:.2f} é menor\")\n",
        "elif numero1 > numero3 and numero3 > numero2:\n",
        "    print(f\"O número {numero1:.2f} é maior\")\n",
        "    print(f\"O número {numero2:.2f} é menor\")\n",
        "elif numero2 > numero3 and numero3 > numero1:\n",
        "    print(f\"O número {numero2:.2f} é maior\")\n",
        "    print(f\"O número {numero1:.2f} é menor\")\n",
        "elif numero2 > numero1 and numero1 > numero3:\n",
        "    print(f\"O número {numero2:.2f} é maior\")\n",
        "    print(f\"O número {numero3:.2f} é menor\")\n",
        "elif numero3 > numero1 and numero1 > numero2:\n",
        "    print(f\"O número {numero3:.2f} é maior\")\n",
        "    print(f\"O número {numero2:.2f} é menor\")\n",
        "else:\n",
        "    print(f\"O número {numero3:.2f} é maior\")\n",
        "    print(f\"O número {numero1:.2f} é menor\")"
      ],
      "execution_count": 20,
      "outputs": [
        {
          "output_type": "stream",
          "text": [
            "Informe um número real: 5\n",
            "Informe outro número real: 4\n",
            "Informe mais um número real: 3\n",
            "O número 5.00 é maior\n",
            "O número 3.00 é menor\n"
          ],
          "name": "stdout"
        }
      ]
    },
    {
      "cell_type": "markdown",
      "metadata": {
        "id": "lIlfG-ATzgOr",
        "colab_type": "text"
      },
      "source": [
        "Faça um programa que pergunte o preço de 5 produtos e informe qual produto você deve comprar, sabendo que a decisão é sempre pelo mais barato."
      ]
    },
    {
      "cell_type": "code",
      "metadata": {
        "id": "-y4pB6br0DD_",
        "colab_type": "code",
        "colab": {
          "base_uri": "https://localhost:8080/",
          "height": 118
        },
        "outputId": "4a55b143-cb63-4cad-e3cf-af08159f173c"
      },
      "source": [
        "produtos = [0, 0, 0, 0, 0]\n",
        "\n",
        "produtos[0]= float(input(\"Informe o preço do primeiro produto: \"))\n",
        "produtos[1]= float(input(\"Informe o preço do segundo produto: \"))\n",
        "produtos[2]= float(input(\"Informe o preço do terceio produto: \"))\n",
        "produtos[3]= float(input(\"Informe o preço do quarto produto: \"))\n",
        "produtos[4]= float(input(\"Informe o preço do quinto produto: \"))\n",
        "\n",
        "print(f\"Você deve comprar o produto que custa R$ {min(produtos):.2f}\")"
      ],
      "execution_count": 25,
      "outputs": [
        {
          "output_type": "stream",
          "text": [
            "Informe o preço do primeiro produto: 5\n",
            "Informe o preço do segundo produto: 4\n",
            "Informe o preço do terceio produto: 3\n",
            "Informe o preço do quarto produto: 2\n",
            "Informe o preço do quinto produto: 1\n",
            "Você deve comprar o produto que custa R$ 1.00\n"
          ],
          "name": "stdout"
        }
      ]
    },
    {
      "cell_type": "code",
      "metadata": {
        "id": "T-Pgd6X12O3l",
        "colab_type": "code",
        "colab": {}
      },
      "source": [
        "produtos"
      ],
      "execution_count": 0,
      "outputs": []
    },
    {
      "cell_type": "markdown",
      "metadata": {
        "id": "Vj4OXsJQziu_",
        "colab_type": "text"
      },
      "source": [
        "Crie um algoritmo em Python que leia três números e mostre-os em ordem decrescente."
      ]
    },
    {
      "cell_type": "code",
      "metadata": {
        "id": "RmApGpg30D00",
        "colab_type": "code",
        "colab": {
          "base_uri": "https://localhost:8080/",
          "height": 85
        },
        "outputId": "60560c60-6d9f-462d-b8f2-87516a0614da"
      },
      "source": [
        "numero1 = float(input(\"Informe um número real: \"))\n",
        "numero2 = float(input(\"Informe outro número real: \"))\n",
        "numero3 = float(input(\"Informe mais um número real: \"))\n",
        "\n",
        "if numero1 > numero2 and numero2 > numero3:\n",
        "    print(f\"{numero1:.2f}, {numero2:.2f}, {numero3:.2f}\")\n",
        "elif numero1 > numero3 and numero3 > numero2:\n",
        "    print(f\"{numero1:.2f}, {numero3:.2f}, {numero1:.2f}\")\n",
        "elif numero2 > numero3 and numero3 > numero1:\n",
        "    print(f\"{numero2:.2f}, {numero3:.2f}, {numero1:.2f}\")\n",
        "elif numero2 > numero1 and numero1 > numero3:\n",
        "    print(f\"{numero2:.2f}, {numero1:.2f}, {numero3:.2f}\")\n",
        "elif numero3 > numero1 and numero1 > numero2:\n",
        "    print(f\"{numero3:.2f}, {numero1:.2f}, {numero2:.2f}\")\n",
        "else:\n",
        "    print(f\"{numero3:.2f}, {numero2:.2f}, {numero1:.2f}\")"
      ],
      "execution_count": 30,
      "outputs": [
        {
          "output_type": "stream",
          "text": [
            "Informe um número real: 8\n",
            "Informe outro número real: 9\n",
            "Informe mais um número real: 7\n",
            "9.00, 8.00, 7.00\n"
          ],
          "name": "stdout"
        }
      ]
    },
    {
      "cell_type": "markdown",
      "metadata": {
        "id": "e7id8Ewgzlow",
        "colab_type": "text"
      },
      "source": [
        "As Organizações Mendéz resolveram dar um aumento de salário aos seus colaboradores e lhe contraram para desenvolver o programa que calculará os reajustes em Python. Faça um programa que receba o salário de um colaborador e o reajuste segundo o seguinte critério, baseado no salário atual:\n",
        "\n",
        "* salários entre 680,00 e 800,00 : aumento de 15%<br>\n",
        "* salários entre 800,00 e 2500,00 : aumento de 10%<br>\n",
        "* salários de 2500,00 em diante : aumento de 5% após o aumento ser realizado.\n",
        "\n",
        "Informe na tela:\n",
        "* o salário antes do reajuste;\n",
        "* o percentual de aumento aplicado;\n",
        "* o valor do aumento;\n",
        "* o novo salário, após o aumento."
      ]
    },
    {
      "cell_type": "code",
      "metadata": {
        "id": "Kl0ainsv0Eif",
        "colab_type": "code",
        "colab": {
          "base_uri": "https://localhost:8080/",
          "height": 68
        },
        "outputId": "91abfea1-7fba-47a9-f932-c1510bd6a661"
      },
      "source": [
        "salario_atual = float(input(\"Informe seu salário atual: R$ \"))\n",
        "\n",
        "if salario_atual <= 800:\n",
        "    aumento_perc = 0.15\n",
        "    valor_aumento = 0.15 * salario_atual\n",
        "    novo_salario = salario_atual + valor_aumento\n",
        "    print(f\"O salário antes do reajuste era R$ {salario_atual:.2f} e teve um aumento de 15%.\")\n",
        "    print(f\"O valor do aumento foi de R$ {valor_aumento:.2f} e seu salário reajustado é R$ {novo_salario:.2f}\")\n",
        "elif salario_atual > 800 and salario_atual <= 2500:\n",
        "    aumento_perc = 0.10\n",
        "    valor_aumento = 0.10 * salario_atual\n",
        "    novo_salario = salario_atual + valor_aumento\n",
        "    print(f\"O salário antes do reajuste era R$ {salario_atual:.2f} e teve um aumento de 10%.\")\n",
        "    print(f\"O valor do aumento foi de R$ {valor_aumento:.2f} e seu salário reajustado é R$ {novo_salario:.2f}\")\n",
        "else:\n",
        "    aumento_perc = 0.05\n",
        "    valor_aumento = 0.05 * salario_atual\n",
        "    novo_salario = salario_atual + valor_aumento\n",
        "    print(f\"O salário antes do reajuste era R$ {salario_atual:.2f} e teve um aumento de 5%.\")\n",
        "    print(f\"O valor do aumento foi de R$ {valor_aumento:.2f} e seu salário reajustado é R$ {novo_salario:.2f}\")"
      ],
      "execution_count": 34,
      "outputs": [
        {
          "output_type": "stream",
          "text": [
            "Informe seu salário atual: R$ 4000\n",
            "O salário antes do reajuste era R$ 4000.00 e teve um aumento de 5%.\n",
            "O valor do aumento foi de R$ 200.00 e seu salário reajustado é R$ 4200.00\n"
          ],
          "name": "stdout"
        }
      ]
    }
  ]
}