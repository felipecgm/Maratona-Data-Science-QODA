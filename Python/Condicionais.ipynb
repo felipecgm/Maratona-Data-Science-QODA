{
  "nbformat": 4,
  "nbformat_minor": 0,
  "metadata": {
    "colab": {
      "name": "Condicionais.ipynb",
      "provenance": [],
      "private_outputs": true,
      "collapsed_sections": [],
      "include_colab_link": true
    },
    "kernelspec": {
      "name": "python3",
      "display_name": "Python 3"
    },
    "accelerator": "GPU"
  },
  "cells": [
    {
      "cell_type": "markdown",
      "metadata": {
        "id": "view-in-github",
        "colab_type": "text"
      },
      "source": [
        "<a href=\"https://colab.research.google.com/github/felipecgm/QODA---Python/blob/master/Condicionais.ipynb\" target=\"_parent\"><img src=\"https://colab.research.google.com/assets/colab-badge.svg\" alt=\"Open In Colab\"/></a>"
      ]
    },
    {
      "cell_type": "markdown",
      "metadata": {
        "id": "LSPHqVUFckTR",
        "colab_type": "text"
      },
      "source": [
        "# **If**"
      ]
    },
    {
      "cell_type": "code",
      "metadata": {
        "id": "UshFBe_vF_EQ",
        "colab_type": "code",
        "colab": {}
      },
      "source": [
        "x = 10\n",
        "if x > 0:\n",
        "\tprint('Número positivo')\n",
        "else:\n",
        "\tprint('Número negativo')"
      ],
      "execution_count": 0,
      "outputs": []
    },
    {
      "cell_type": "markdown",
      "metadata": {
        "id": "hzFJUWCkp1ik",
        "colab_type": "text"
      },
      "source": [
        "# **Conectivos Lógicos**\n",
        "![alt text](http://uploaddeimagens.com.br/images/002/157/511/full/conectivos-logicos.jpg?1561550251)"
      ]
    },
    {
      "cell_type": "code",
      "metadata": {
        "id": "O4RpA6p5baPA",
        "colab_type": "code",
        "colab": {}
      },
      "source": [
        "x = \"janeiro\"\n",
        "if x == 'janeiro' or x == 'fevereiro' or x == 'março':\n",
        "\tprint('Trimestre 1')\n",
        "elif x == 'abril' or x == 'maio' or x == 'junho':\n",
        "\tprint('Trimestre 2')\n",
        "else:\n",
        "\tprint('Trimestre 3')"
      ],
      "execution_count": 0,
      "outputs": []
    },
    {
      "cell_type": "markdown",
      "metadata": {
        "id": "q1yVwPBZl3Jl",
        "colab_type": "text"
      },
      "source": [
        "## **>>> Exercícios**\n",
        "\n",
        "\n",
        "1.   Crie um algoritmo que solicite do usuário um número e calcule se ele é POSITIVO ou NEGATIVO (fácil)\n",
        "2.   Crie um algoritmo que solicite peso e altura e como resultado printe o IMC na tela (médio)\n",
        "3.   Crie um algoritmo que solicite do usuário um número e printe na tela PAR, quando número par e IMPAR, quando número ímpar(difícil)"
      ]
    },
    {
      "cell_type": "code",
      "metadata": {
        "id": "HIc6tVCD4cIG",
        "colab_type": "code",
        "colab": {}
      },
      "source": [
        "#Exercício 1\n",
        "numero = int(input(\"Informe um número inteiro: \"))\n",
        "\n",
        "if numero > 0:\n",
        "    print(f\"O número {numero} é positivo\")\n",
        "elif numero < 0:\n",
        "    print(f\"O número {numero} é negativo\")\n",
        "else:\n",
        "    print(f\"O número {numero} não é positivo e nem negativo\")"
      ],
      "execution_count": 0,
      "outputs": []
    },
    {
      "cell_type": "markdown",
      "metadata": {
        "id": "XCj_pS245mFr",
        "colab_type": "text"
      },
      "source": [
        "#Avaliação do peso em adultos (20 a 59 anos)\n",
        "\n",
        "Os parâmetros indicados pelo Ministério da Saúde para avaliação do estado nutricional de pessoas entre 20 e 59 anos são o Índice de Massa Corporal (IMC) e o perímetro da cintura ou circunferência da cintura.\n",
        "O resultado do cálculo do IMC deve ser analisado de acordo com a classificação definida pela Organização Mundial de Saúde (OMS), válida somente para pessoas adultas:\n",
        "\n",
        "![alt text](https://www.estudegratis.com.br/images/questoes/dbd1c91107731a5145568.gif)\n",
        "\n",
        "link: https://www.saude.gov.br/component/content/article/804-imc/40509-imc-em-adultos"
      ]
    },
    {
      "cell_type": "code",
      "metadata": {
        "id": "PQXRjyT16nOB",
        "colab_type": "code",
        "colab": {}
      },
      "source": [
        "#Exercício 2\n",
        "\n",
        "peso = float(input(\"Informe seu peso em quilogramas: \"))\n",
        "altura = float(input(\"Informe sua altura em metros: \"))\n",
        "\n",
        "imc = round((peso / altura ** 2), 1)\n",
        "\n",
        "\n",
        "if imc < 18.5:\n",
        "    print(f\"Seu imc é {imc}\\n\")\n",
        "    print(\"Você está abaixo do peso normal\")\n",
        "elif imc > 18.5 and imc < 24.9:\n",
        "    print(f\"Seu imc é {imc}\\n\")\n",
        "    print(\"Você apresenta peso normal\")\n",
        "elif imc > 24.9 and imc < 29.9:\n",
        "    print(f\"Seu imc é {imc}\\n\")\n",
        "    print(\"Você apresenta excesso de peso\")\n",
        "elif imc > 29.9 and imc < 34.9:\n",
        "    print(f\"Seu imc é {imc}\\n\")\n",
        "    print(\"Você apresenta Obesidade classe I\")\n",
        "elif imc > 34.9 and imc < 39.9:\n",
        "    print(f\"Seu imc é {imc}\\n\")\n",
        "    print(\"Você apresenta Obesidade classe II\")\n",
        "else:\n",
        "    print(f\"Seu imc é {imc}\\n\")\n",
        "    print(\"Você apresenta Obesidade classe III\")    \n"
      ],
      "execution_count": 0,
      "outputs": []
    },
    {
      "cell_type": "code",
      "metadata": {
        "id": "jZDLF7IW96dy",
        "colab_type": "code",
        "colab": {}
      },
      "source": [
        "#Exercício 3\n",
        "numero = int(input(\"Informe um número inteiro: \"))\n",
        "\n",
        "if numero % 2 == 0:\n",
        "    print(f\"O número {numero} é par\")\n",
        "else:\n",
        "    print(f\"O número {numero} é ímpar\")"
      ],
      "execution_count": 0,
      "outputs": []
    }
  ]
}