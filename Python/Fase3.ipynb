{
  "nbformat": 4,
  "nbformat_minor": 0,
  "metadata": {
    "colab": {
      "name": "Fase3.ipynb",
      "provenance": [],
      "collapsed_sections": [],
      "include_colab_link": true
    },
    "kernelspec": {
      "name": "python3",
      "display_name": "Python 3"
    }
  },
  "cells": [
    {
      "cell_type": "markdown",
      "metadata": {
        "id": "view-in-github",
        "colab_type": "text"
      },
      "source": [
        "<a href=\"https://colab.research.google.com/github/felipecgm/QODA---Python/blob/master/Fase3.ipynb\" target=\"_parent\"><img src=\"https://colab.research.google.com/assets/colab-badge.svg\" alt=\"Open In Colab\"/></a>"
      ]
    },
    {
      "cell_type": "markdown",
      "metadata": {
        "id": "CYNAmoj4zSXl",
        "colab_type": "text"
      },
      "source": [
        "Crie um algoritmo em Python que peça uma nota, entre zero e 100. Mostre uma mensagem caso o valor seja inválido e continue pedindo até que o usuário informe um valor válido."
      ]
    },
    {
      "cell_type": "code",
      "metadata": {
        "id": "ViAfpy3GzPN-",
        "colab_type": "code",
        "colab": {
          "base_uri": "https://localhost:8080/",
          "height": 68
        },
        "outputId": "5939d472-cab7-483f-b145-d03fc2fd5d20"
      },
      "source": [
        "while True:\n",
        "    try:\n",
        "        nota = -1\n",
        "        while nota < 0 or nota > 100:\n",
        "            nota = float(input(\"Informe uma nota entre 0 e 100: \"))\n",
        "        break;\n",
        "    except ValueError:\n",
        "        print(\"Nota inválida, tente novamente!\")"
      ],
      "execution_count": 8,
      "outputs": [
        {
          "output_type": "stream",
          "text": [
            "Informe uma nota entre 0 e 100: -5\n",
            "Informe uma nota entre 0 e 100: 101\n",
            "Informe uma nota entre 0 e 100: 100\n"
          ],
          "name": "stdout"
        }
      ]
    },
    {
      "cell_type": "markdown",
      "metadata": {
        "id": "gdMis92izSmQ",
        "colab_type": "text"
      },
      "source": [
        "Crie um algoritmo em Python que leia um nome de usuário e a sua senha e não aceite a senha igual ao nome do usuário, mostrando uma mensagem de erro e voltando a pedir as informações.<br>"
      ]
    },
    {
      "cell_type": "code",
      "metadata": {
        "id": "BFpWkdCBz_zh",
        "colab_type": "code",
        "colab": {
          "base_uri": "https://localhost:8080/",
          "height": 118
        },
        "outputId": "e6a43ab5-a109-4387-c5bd-71f79d006749"
      },
      "source": [
        "nome_user = 'exemplo'\n",
        "senha = 'exemplo'\n",
        "\n",
        "while nome_user == senha:\n",
        "    nome_user = input(\"Informe um nome de usuário: \")\n",
        "    senha = input(\"Informe uma senha: \")\n",
        "    if nome_user == senha:\n",
        "        print(\"A senha não pode ser igual ao nome do usuário.\\nTente novamente.\")"
      ],
      "execution_count": 13,
      "outputs": [
        {
          "output_type": "stream",
          "text": [
            "Informe um nome de usuário: Felipe\n",
            "Informe uma senha: Felipe\n",
            "A senha não pode ser igual ao nome do usuário.\n",
            "Tente novamente.\n",
            "Informe um nome de usuário: Felipe\n",
            "Informe uma senha: 1234\n"
          ],
          "name": "stdout"
        }
      ]
    },
    {
      "cell_type": "markdown",
      "metadata": {
        "id": "E_0l_Vx6zSo2",
        "colab_type": "text"
      },
      "source": [
        "Crie um algoritmo em Python que leia e valide as seguintes informações:\n",
        "* Nome: maior que 3 caracteres;\n",
        "* Idade: entre 0 e 150;\n",
        "* Salário: maior que zero;\n",
        "* Sexo: 'f' ou 'm';\n",
        "* Estado Civil: 's', 'c', 'v', 'd';"
      ]
    },
    {
      "cell_type": "code",
      "metadata": {
        "id": "KwJf7XZS0AZW",
        "colab_type": "code",
        "colab": {
          "base_uri": "https://localhost:8080/",
          "height": 203
        },
        "outputId": "de67fe73-fb54-4676-cea2-3898b7dd0817"
      },
      "source": [
        "nome = input(\"Qual seu nome [minimo 4 caracteres]: \")\n",
        "idade = int(input(\"Sua idade: \"))\n",
        "salario = float(input(\"Salário: \"))\n",
        "sexo = input(\"Sexo ('f' para feminino ou 'm' para masculino): \")\n",
        "civil = input(\"Estado civil (s, c, v ou d): \")\n",
        "\n",
        "while len(nome) <= 3:\n",
        "    nome = input(\"Seu nome deve ter mais que 3 caracteres: \")\n",
        "\n",
        "while (idade < 0) or (idade > 150):\n",
        "    idade = int(input(\"Voce deve ter entre 0 e 150 anos: \"))\n",
        "\n",
        "while (salario<0):\n",
        "    salario = float(input(\"A coisa ta difícil, mas não tem salário negativo: \"))\n",
        "\n",
        "while (sexo!= 'f') and (sexo!='m'):\n",
        "    sexo = input(\"Biologicamente, você deve ser 'f' ou 'm': \")\n",
        "\n",
        "while (civil!='s')and(civil!='c')and(civil!='v')and(civil!='d'):\n",
        "    print(\"Nao tem estado civil 'confuso'\")\n",
        "    civil = input(\"Deve ser s, c, v ou d: \")\n"
      ],
      "execution_count": 14,
      "outputs": [
        {
          "output_type": "stream",
          "text": [
            "Qual seu nome [minimo 4 caracteres]: Fe\n",
            "Sua idade: 151\n",
            "Salário: -5\n",
            "Sexo ('f' para feminino ou 'm' para masculino): z\n",
            "Estado civil (s, c, v ou d): f\n",
            "Seu nome deve ter mais que 3 caracteres: Felipe\n",
            "Voce deve ter entre 0 e 150 anos: 28\n",
            "A coisa ta difícil, mas não tem salário negativo: 1000\n",
            "Biologicamente, você deve ser 'f' ou 'm': m\n",
            "Nao tem estado civil 'confuso'\n",
            "Deve ser s, c, v ou d: s\n"
          ],
          "name": "stdout"
        }
      ]
    },
    {
      "cell_type": "markdown",
      "metadata": {
        "id": "1i4VCiiczSrL",
        "colab_type": "text"
      },
      "source": [
        "Supondo que a população de um país A seja da ordem de 80000 habitantes com uma taxa anual de crescimento de 3% e que a população de B seja 200000 habitantes com uma taxa de crescimento de 1.5%.<br><br> Crie um algoritmo em Python que calcule e escreva o número de anos necessários para que a população do país A ultrapasse ou iguale a população do país B, mantidas as taxas de crescimento."
      ]
    },
    {
      "cell_type": "code",
      "metadata": {
        "id": "yoW67hjA0BHy",
        "colab_type": "code",
        "colab": {
          "base_uri": "https://localhost:8080/",
          "height": 34
        },
        "outputId": "93ac8db3-aeb3-4e2d-9381-ccfd901659a3"
      },
      "source": [
        "from math import fabs\n",
        "from scipy.optimize import fsolve\n",
        "'''\n",
        "    Adotando crescimento exponencial, ano inicial = 0, população inicial = P0 e taxa anual de crescimento = i\n",
        "    P(t) = P0 * (1 + i) ** t\n",
        "    A = 80000 * (1 + 0.030) ** t\n",
        "    B = 200000 * (1 + 0.015) ** t\n",
        "\n",
        "'''\n",
        "'''\n",
        "Método por tentativas => Melhor intervalo encontrado [60,65]\n",
        "for t in range(60,65):\n",
        "    A = 80000 * (1 + 0.030) ** t\n",
        "    B = 200000 * (1 + 0.015) ** t\n",
        "    print(f\"Para o tempo = {t}, A = {A:.1f} e B = {B:.1f} hab.\")\n",
        "'''\n",
        "#Ano em que a quantidade de habitantes serão próximas\n",
        "diferenca_populacao = []\n",
        "for t in range(60,65):\n",
        "    A = 80000 * (1 + 0.030) ** t\n",
        "    B = 200000 * (1 + 0.015) ** t\n",
        "    diferenca_populacao.append(fabs(A-B))\n",
        "\n",
        "diferenca_populacao\n",
        "\n",
        "tempo = 62\n",
        "\n",
        "'''\n",
        "Utilizando solver\n",
        "    80000 * (1 + 0.030) ** t = 200000 * (1 + 0.015) ** t\n",
        "    (1 + 0.030) ** t / (1 + 0.015) ** t = 200000 / 80000\n",
        "    (1.030/1.015) ** t - 2.5 = 0\n",
        "'''\n",
        "\n",
        "funcao = lambda t: (1.030/1.015) ** t - 2.5\n",
        "tempo = fsolve(funcao, tempo)\n",
        "\n",
        "tempo = float(tempo[0])\n",
        "\n",
        "A = 80000 * (1 + 0.030) ** tempo\n",
        "B = 200000 * (1 + 0.015) ** tempo\n",
        "\n",
        "print(f\"No tempo {tempo:.2f} anos, as populações de A e B, serão respectivamente {A:.0f} habitantes\")"
      ],
      "execution_count": 48,
      "outputs": [
        {
          "output_type": "stream",
          "text": [
            "No tempo 62.46 anos, as populações de A e B, serão respectivamente 506868 habitantes\n"
          ],
          "name": "stdout"
        }
      ]
    },
    {
      "cell_type": "markdown",
      "metadata": {
        "id": "4ep7kezvzStO",
        "colab_type": "text"
      },
      "source": [
        "Desenvolva um gerador de tabuada, capaz de gerar a tabuada de qualquer número inteiro entre 1 a 10. O usuário deve informar de qual numero ele deseja ver a tabuada. A saída deve ser conforme o exemplo abaixo:\n",
        "Tabuada de 5:<br>\n",
        "5 X 1 = 5<br>\n",
        "5 X 2 = 10<br>\n",
        "...<br>\n",
        "5 X 10 = 50<br>"
      ]
    },
    {
      "cell_type": "code",
      "metadata": {
        "id": "6K6IHWdr0Blt",
        "colab_type": "code",
        "colab": {
          "base_uri": "https://localhost:8080/",
          "height": 203
        },
        "outputId": "e0233b20-1b87-4d6a-9749-599036a0c166"
      },
      "source": [
        "n = int(input(\"Deseja tabuada de qual número [1 a 10]: \"))\n",
        "\n",
        "for i in range(1,11):\n",
        "    print(f\"{n} X {i} = {n*i}\")"
      ],
      "execution_count": 49,
      "outputs": [
        {
          "output_type": "stream",
          "text": [
            "Deseja tabuada de qual número [1 a 10]: 5\n",
            "5 X 1 = 5\n",
            "5 X 2 = 10\n",
            "5 X 3 = 15\n",
            "5 X 4 = 20\n",
            "5 X 5 = 25\n",
            "5 X 6 = 30\n",
            "5 X 7 = 35\n",
            "5 X 8 = 40\n",
            "5 X 9 = 45\n",
            "5 X 10 = 50\n"
          ],
          "name": "stdout"
        }
      ]
    },
    {
      "cell_type": "markdown",
      "metadata": {
        "id": "u6__NaXqzeYg",
        "colab_type": "text"
      },
      "source": [
        "Crie um algoritmo em Python que leia três números e mostre o maior e o menor deles."
      ]
    },
    {
      "cell_type": "code",
      "metadata": {
        "id": "mm2L7g3x0Cfx",
        "colab_type": "code",
        "colab": {
          "base_uri": "https://localhost:8080/",
          "height": 85
        },
        "outputId": "1ed0b5ad-17ca-4efd-fda9-ec6dbea5b547"
      },
      "source": [
        "seq = [float(input(\"Informe um número: \")) for i in range(3)]\n",
        "print(f\"O menor valor é {min(seq)} e o maior é {max(seq)}.\")"
      ],
      "execution_count": 52,
      "outputs": [
        {
          "output_type": "stream",
          "text": [
            "Informe um número: 5\n",
            "Informe um número: 7\n",
            "Informe um número: 4\n",
            "O menor valor é 4.0 e o maior é 7.0.\n"
          ],
          "name": "stdout"
        }
      ]
    },
    {
      "cell_type": "markdown",
      "metadata": {
        "id": "lIlfG-ATzgOr",
        "colab_type": "text"
      },
      "source": [
        "Crie um algoritmo em Python que peça 2 números, base e expoente, calcule e mostre o primeiro número elevado ao segundo número. Não utilize a função de potência da linguagem."
      ]
    },
    {
      "cell_type": "code",
      "metadata": {
        "id": "-y4pB6br0DD_",
        "colab_type": "code",
        "colab": {
          "base_uri": "https://localhost:8080/",
          "height": 68
        },
        "outputId": "ee52fe7c-2481-461c-f23a-17fc5c571ed7"
      },
      "source": [
        "base = int(input(\"Informe a base: \"))\n",
        "expoente = int(input(\"Informe o expoente: \"))\n",
        "\n",
        "potencia = 1\n",
        "\n",
        "for i in range(expoente):\n",
        "    potencia *= base\n",
        "potencia"
      ],
      "execution_count": 56,
      "outputs": [
        {
          "output_type": "stream",
          "text": [
            "Informe a base: 5\n",
            "Informe o expoente: 3\n"
          ],
          "name": "stdout"
        },
        {
          "output_type": "execute_result",
          "data": {
            "text/plain": [
              "125"
            ]
          },
          "metadata": {
            "tags": []
          },
          "execution_count": 56
        }
      ]
    },
    {
      "cell_type": "markdown",
      "metadata": {
        "id": "Vj4OXsJQziu_",
        "colab_type": "text"
      },
      "source": [
        "Crie um algoritmo em Python que peça 10 números inteiros, calcule e mostre a quantidade de números pares e a quantidade de números impares."
      ]
    },
    {
      "cell_type": "code",
      "metadata": {
        "id": "RmApGpg30D00",
        "colab_type": "code",
        "colab": {
          "base_uri": "https://localhost:8080/",
          "height": 203
        },
        "outputId": "fea6fc5d-350e-42eb-86c1-3d9610523e24"
      },
      "source": [
        "lista = [int(input(f\"Informe o {i}º número: \")) for i in range(1,11)]\n",
        "\n",
        "par = [i for i in lista if i%2==0]\n",
        "impar = [i for i in lista if i%2!=0]\n",
        "\n",
        "print(f\"A quantidade de número(s) par(es) e ímpar(es) são respectivamente {len(par)} e {len(impar)}\")"
      ],
      "execution_count": 60,
      "outputs": [
        {
          "output_type": "stream",
          "text": [
            "Informe o 1º número: 1\n",
            "Informe o 2º número: 2\n",
            "Informe o 3º número: 3\n",
            "Informe o 4º número: 4\n",
            "Informe o 5º número: 5\n",
            "Informe o 6º número: 6\n",
            "Informe o 7º número: 7\n",
            "Informe o 8º número: 8\n",
            "Informe o 9º número: 9\n",
            "Informe o 10º número: 10\n",
            "A quantidade de número(s) par(es) e ímpar(es) são respectivamente 5 e 5\n"
          ],
          "name": "stdout"
        }
      ]
    },
    {
      "cell_type": "markdown",
      "metadata": {
        "id": "e7id8Ewgzlow",
        "colab_type": "text"
      },
      "source": [
        "Um funcionário de uma empresa recebe aumento salarial anualmente: Sabe-se que:\n",
        "Esse funcionário foi contratado em 1995, com salário inicial de R$ 1.000,00;\n",
        "Em 1996 recebeu aumento de 1,5% sobre seu salário inicial;\n",
        "A partir de 1997 (inclusive), os aumentos salariais sempre correspondem ao dobro do percentual do ano anterior. Crie um algoritmo em Python que determine o salário atual desse funcionário. Após concluir isto, altere o programa permitindo que o usuário digite o salário inicial do funcionário."
      ]
    },
    {
      "cell_type": "code",
      "metadata": {
        "id": "Kl0ainsv0Eif",
        "colab_type": "code",
        "colab": {
          "base_uri": "https://localhost:8080/",
          "height": 85
        },
        "outputId": "0b9c7a0f-fe11-4430-98bd-2124581b4751"
      },
      "source": [
        "'''\n",
        "inicio = 1995 => R$ 1000,00\n",
        "ano_seguinte = 1996 => (1 + 0.015*1) * 1000 = R$ 1015\n",
        "ano_seguinte = 1997 => (1 + 0.015*2) * 1000 = R$ 1030\n",
        "...\n",
        "salario_atual = salario_inicial * (1 + 0.015 * 2 ** (tempo-1))\n",
        "'''\n",
        "\n",
        "ano_inicial = int(input(\"Em qual ano que você começou a trabalhar? \"))\n",
        "salario_inicial = float(input(\"Qual era o seu salário inicial? R$ \"))\n",
        "ano_atual = int(input(\"Qual é o ano atual? \"))\n",
        "\n",
        "tempo = ano_atual - ano_inicial\n",
        "\n",
        "salario_atual = salario_inicial * (1 + 0.015 * 2 ** (tempo-1))\n",
        "\n",
        "print(f\"Em {ano_atual} você estava ganhando/ganhava R$ {salario_atual:.2f}\")"
      ],
      "execution_count": 69,
      "outputs": [
        {
          "output_type": "stream",
          "text": [
            "Em qual ano que você começou a trabalhar? 1995\n",
            "Qual era o seu salário inicial? R$ 1000\n",
            "Qual é o ano atual? 1996\n",
            "Em 1996 você estava ganhando/ganhava R$ 1015.00\n"
          ],
          "name": "stdout"
        }
      ]
    },
    {
      "cell_type": "markdown",
      "metadata": {
        "id": "5u9i4kzm-itX",
        "colab_type": "text"
      },
      "source": [
        "Crie um algoritmo em Python com uma função que necessite de um argumento. A função retorna o valor de caractere ‘P’, se seu argumento for positivo, e ‘N’, se seu argumento for zero ou negativo."
      ]
    },
    {
      "cell_type": "code",
      "metadata": {
        "id": "WNt8CLa2-rGt",
        "colab_type": "code",
        "colab": {
          "base_uri": "https://localhost:8080/",
          "height": 34
        },
        "outputId": "07186e32-55db-4f4b-e15a-12b03c9a940a"
      },
      "source": [
        "positivo_ou_negativo = lambda x: \"P\" if x>0 else \"N\"\n",
        "\n",
        "positivo_ou_negativo(0)"
      ],
      "execution_count": 64,
      "outputs": [
        {
          "output_type": "execute_result",
          "data": {
            "text/plain": [
              "'N'"
            ]
          },
          "metadata": {
            "tags": []
          },
          "execution_count": 64
        }
      ]
    },
    {
      "cell_type": "markdown",
      "metadata": {
        "id": "CHiYMSOJ-rSY",
        "colab_type": "text"
      },
      "source": [
        "Construa uma função que receba uma data no formato DD/MM/AAAA e devolva uma string no formato D de mesPorExtenso de AAAA. Opcionalmente, valide a data e retorne NULL caso a data seja inválida."
      ]
    },
    {
      "cell_type": "code",
      "metadata": {
        "id": "6Ukxx6gQ-r4-",
        "colab_type": "code",
        "colab": {
          "base_uri": "https://localhost:8080/",
          "height": 51
        },
        "outputId": "7513bc59-b1dd-4851-d20f-7b1da02faca5"
      },
      "source": [
        "meses = {\n",
        "    1:\"janeiro\",\n",
        "    2:\"fevereiro\",\n",
        "    3:\"março\",\n",
        "    4:\"abril\",\n",
        "    5:\"maio\",\n",
        "    6:\"junho\",\n",
        "    7:\"julho\",\n",
        "    8:\"agosto\",\n",
        "    9:\"setembro\",\n",
        "    10:\"outubro\",\n",
        "    11:\"novembro\",\n",
        "    12:\"dezembro\"\n",
        "}\n",
        "\n",
        "def get_data():\n",
        "    return input(\"Informe uma data [DD/MM/AAAA]: \")\n",
        "\n",
        "data = get_data()\n",
        "\n",
        "while len(data) != len(\"DD/MM/AAAA\"):\n",
        "    data = get_data()\n",
        "while data[2] != \"/\" and data[5] != \"/\":\n",
        "    data = get_data()\n",
        "\n",
        "\n",
        "data_dividida = data.split(\"/\")\n",
        "\n",
        "dia = int(data_dividida[0])\n",
        "mes = int(data_dividida[1])\n",
        "ano = int(data_dividida[2])\n",
        "\n",
        "while dia < 0 or dia >= 31:\n",
        "    data = get_data(\n",
        "while mes < 0 or mes >= 12:\n",
        "    data = get_data()\n",
        "while ano < 999 or ano >= 9999:\n",
        "    data = get_data()\n",
        "\n",
        "print(f\"{dia} de {meses[mes]} de {ano}\")\n"
      ],
      "execution_count": 87,
      "outputs": [
        {
          "output_type": "stream",
          "text": [
            "Informe uma data [DD/MM/AAAA]: 05/01/1992\n",
            "5 de janeiro de 1992\n"
          ],
          "name": "stdout"
        }
      ]
    },
    {
      "cell_type": "markdown",
      "metadata": {
        "id": "AzUYbZ8A-zj7",
        "colab_type": "text"
      },
      "source": [
        "Crie uma classe que modele uma pessoa:<br>\n",
        "\n",
        "Atributos: nome, idade, peso e altura<br>\n",
        "Métodos: Envelhercer, engordar, emagrecer, crescer.<br>\n",
        "<br>Obs: Por padrão, a cada ano que nossa pessoa envelhece, sendo a idade dela menor que 21 anos, ela deve crescer 0,5 cm."
      ]
    },
    {
      "cell_type": "code",
      "metadata": {
        "id": "qobhV-FC-zRS",
        "colab_type": "code",
        "colab": {}
      },
      "source": [
        "class Pessoa:\n",
        "    def __init__(self, nome, idade, peso, altura):\n",
        "        self.nome = nome\n",
        "        self.idade = idade\n",
        "        self.peso = peso\n",
        "        self.altura = altura\n",
        "    def Envelhecer(self,idade):\n",
        "        self.idade\n",
        "    def Engordar(self,peso):\n",
        "        self.peso\n",
        "    def Emagrecer(self,peso):\n",
        "        self.peso\n",
        "    def Crescer(self,altura):\n",
        "        self.altura\n",
        "\n"
      ],
      "execution_count": 0,
      "outputs": []
    }
  ]
}