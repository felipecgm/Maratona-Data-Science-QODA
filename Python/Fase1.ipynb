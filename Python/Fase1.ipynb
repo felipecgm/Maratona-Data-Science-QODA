{
  "nbformat": 4,
  "nbformat_minor": 0,
  "metadata": {
    "colab": {
      "name": "Fase1.ipynb",
      "provenance": [],
      "collapsed_sections": [],
      "include_colab_link": true
    },
    "kernelspec": {
      "name": "python3",
      "display_name": "Python 3"
    }
  },
  "cells": [
    {
      "cell_type": "markdown",
      "metadata": {
        "id": "view-in-github",
        "colab_type": "text"
      },
      "source": [
        "<a href=\"https://colab.research.google.com/github/felipecgm/QODA---Python/blob/master/Fase1.ipynb\" target=\"_parent\"><img src=\"https://colab.research.google.com/assets/colab-badge.svg\" alt=\"Open In Colab\"/></a>"
      ]
    },
    {
      "cell_type": "markdown",
      "metadata": {
        "id": "CYNAmoj4zSXl",
        "colab_type": "text"
      },
      "source": [
        "Crie um algoritmo em Python que mostre a mensagem \"Alo mundo\" na tela."
      ]
    },
    {
      "cell_type": "code",
      "metadata": {
        "id": "ViAfpy3GzPN-",
        "colab_type": "code",
        "outputId": "67379aec-5b3e-497c-8fbc-ec4124f5ef87",
        "colab": {
          "base_uri": "https://localhost:8080/",
          "height": 34
        }
      },
      "source": [
        "print(\"Alô mundo\")"
      ],
      "execution_count": 0,
      "outputs": [
        {
          "output_type": "stream",
          "text": [
            "Alô mundo\n"
          ],
          "name": "stdout"
        }
      ]
    },
    {
      "cell_type": "markdown",
      "metadata": {
        "id": "gdMis92izSmQ",
        "colab_type": "text"
      },
      "source": [
        "Crie um algoritmo em Python que peça dois números e imprima a soma."
      ]
    },
    {
      "cell_type": "code",
      "metadata": {
        "id": "BFpWkdCBz_zh",
        "colab_type": "code",
        "outputId": "841e0f0c-b01b-4262-b0d1-dc6d7235e51d",
        "colab": {
          "base_uri": "https://localhost:8080/",
          "height": 68
        }
      },
      "source": [
        "num1 = float(input(\"Informe um número: \"))\n",
        "num2 = float(input(\"Informe outro número: \"))\n",
        "\n",
        "print(f\"A soma dos números é igual a {num1+num2}\")"
      ],
      "execution_count": 0,
      "outputs": [
        {
          "output_type": "stream",
          "text": [
            "Informe um número: 2\n",
            "Informe outro número: 4\n",
            "A soma dos números é igual a 6.0\n"
          ],
          "name": "stdout"
        }
      ]
    },
    {
      "cell_type": "markdown",
      "metadata": {
        "id": "E_0l_Vx6zSo2",
        "colab_type": "text"
      },
      "source": [
        "Crie um algoritmo em Python que peça um número e então mostre a mensagem O número informado foi [número]."
      ]
    },
    {
      "cell_type": "code",
      "metadata": {
        "id": "KwJf7XZS0AZW",
        "colab_type": "code",
        "outputId": "97cb2ab2-9ed8-4fae-bb1d-f20ab4dc0fe2",
        "colab": {
          "base_uri": "https://localhost:8080/",
          "height": 51
        }
      },
      "source": [
        "num3 = float(input(\"Informe um número: \"))\n",
        "\n",
        "print(f\"O número informado foi {num3}\")"
      ],
      "execution_count": 0,
      "outputs": [
        {
          "output_type": "stream",
          "text": [
            "Informe um número: 5\n",
            "O número informado foi 5.0\n"
          ],
          "name": "stdout"
        }
      ]
    },
    {
      "cell_type": "markdown",
      "metadata": {
        "id": "1i4VCiiczSrL",
        "colab_type": "text"
      },
      "source": [
        "Crie um algoritmo em Python que converta metros para centímetros."
      ]
    },
    {
      "cell_type": "code",
      "metadata": {
        "id": "yoW67hjA0BHy",
        "colab_type": "code",
        "outputId": "e4f162c8-0b77-4bed-cf9d-fafc88be1e5a",
        "colab": {
          "base_uri": "https://localhost:8080/",
          "height": 51
        }
      },
      "source": [
        "metros = float(input(\"Informe uma distância em metros: \"))\n",
        "\n",
        "print(f\"A distância de {metros} metro(s) equivale a {metros*100} centímetro(s)\")"
      ],
      "execution_count": 0,
      "outputs": [
        {
          "output_type": "stream",
          "text": [
            "Informe uma distância em metros: 1\n",
            "A distância de 1.0 metro(s) equivale a 100.0 centímetro(s)\n"
          ],
          "name": "stdout"
        }
      ]
    },
    {
      "cell_type": "markdown",
      "metadata": {
        "id": "4ep7kezvzStO",
        "colab_type": "text"
      },
      "source": [
        "Crie um algoritmo em Python que peça as 4 notas bimestrais e mostre a média."
      ]
    },
    {
      "cell_type": "code",
      "metadata": {
        "id": "6K6IHWdr0Blt",
        "colab_type": "code",
        "outputId": "f76360d7-e753-4060-da02-6fa29074bca3",
        "colab": {
          "base_uri": "https://localhost:8080/",
          "height": 118
        }
      },
      "source": [
        "print(\"Informe suas notas bimestrais para ter a sua média\")\n",
        "\n",
        "n1 = float(input(\"Informe a primeira nota: \"))\n",
        "n2 = float(input(\"Informe a segunda nota: \"))\n",
        "n3 = float(input(\"Informe a terceira nota: \"))\n",
        "n4 = float(input(\"Informe a quarta nota: \"))\n",
        "\n",
        "media = (n1 + n2 + n3 + n4) / 4\n",
        "\n",
        "print(f\"A sua média é igual a {media}\")"
      ],
      "execution_count": 0,
      "outputs": [
        {
          "output_type": "stream",
          "text": [
            "Informe suas notas bimestrais para ter a sua média\n",
            "Informe a primeira nota: 1\n",
            "Informe a segunda nota: 9\n",
            "Informe a terceira nota: 8\n",
            "Informe a quarta nota: 10\n",
            "A sua média é igual a 7.0\n"
          ],
          "name": "stdout"
        }
      ]
    },
    {
      "cell_type": "markdown",
      "metadata": {
        "id": "u6__NaXqzeYg",
        "colab_type": "text"
      },
      "source": [
        "Crie um algoritmo em Python que peça o raio de um círculo, calcule e mostre sua área."
      ]
    },
    {
      "cell_type": "code",
      "metadata": {
        "id": "mm2L7g3x0Cfx",
        "colab_type": "code",
        "outputId": "70431d41-ed73-49b6-ba09-313b5027cf36",
        "colab": {
          "base_uri": "https://localhost:8080/",
          "height": 68
        }
      },
      "source": [
        "print(\"Este algoritmo calcula a área de um circulo, informado seu raio.\")\n",
        "raio = float(input(\"Informe o raio da circunferência: \"))\n",
        "PI = 3.14159265359\n",
        "\n",
        "area = PI * raio ** 2\n",
        "\n",
        "print(f\"A área do círculo é igual a {area:.2f} unidades de area\")"
      ],
      "execution_count": 0,
      "outputs": [
        {
          "output_type": "stream",
          "text": [
            "Este algoritmo calcula a área de um circulo, informado seu raio.\n",
            "Informe o raio da circunferência: 1\n",
            "A área do círculo é igual a 3.14 unidades de area\n"
          ],
          "name": "stdout"
        }
      ]
    },
    {
      "cell_type": "markdown",
      "metadata": {
        "id": "lIlfG-ATzgOr",
        "colab_type": "text"
      },
      "source": [
        "Crie um algoritmo em Python que calcule a área de um quadrado, em seguida mostre o dobro desta área para o usuário."
      ]
    },
    {
      "cell_type": "code",
      "metadata": {
        "id": "-y4pB6br0DD_",
        "colab_type": "code",
        "outputId": "32eaabee-9c16-42df-c9e6-a00a7104ffdb",
        "colab": {
          "base_uri": "https://localhost:8080/",
          "height": 51
        }
      },
      "source": [
        "lado = float(input(\"Informe o lado de um quadrado: \"))\n",
        "\n",
        "print(f\"A area do quadrado é {lado * lado} unidades de area e o dobro da area é {2 * lado * lado} unidades de area\")"
      ],
      "execution_count": 0,
      "outputs": [
        {
          "output_type": "stream",
          "text": [
            "Informe o lado de um quadrado: 1\n",
            "A area do quadrado é 1.0 unidades de area e o dobro da area é 2.0 unidades de area\n"
          ],
          "name": "stdout"
        }
      ]
    },
    {
      "cell_type": "markdown",
      "metadata": {
        "id": "Vj4OXsJQziu_",
        "colab_type": "text"
      },
      "source": [
        "Crie um algoritmo em Python que pergunte quanto você ganha por hora e o número de horas trabalhadas no mês. Calcule e mostre o total do seu salário no referido mês.\n"
      ]
    },
    {
      "cell_type": "code",
      "metadata": {
        "id": "RmApGpg30D00",
        "colab_type": "code",
        "colab": {
          "base_uri": "https://localhost:8080/",
          "height": 68
        },
        "outputId": "7a425244-bab2-4e73-b24f-5fd79c6d33ef"
      },
      "source": [
        "salario_hora = float(input(\"Quanto você ganha por hora? \"))\n",
        "hora_total = float(input(\"Quanto tempo você trabalha por mês? \"))\n",
        "\n",
        "salario = salario_hora * hora_total\n",
        "\n",
        "print(f\"Você ganha R$ {salario:.2f} por mês\")"
      ],
      "execution_count": 1,
      "outputs": [
        {
          "output_type": "stream",
          "text": [
            "Quanto você ganha por hora? 50.250\n",
            "Quanto tempo você trabalha por mês? 5\n",
            "Você ganha R$ 251.25 por mês\n"
          ],
          "name": "stdout"
        }
      ]
    },
    {
      "cell_type": "markdown",
      "metadata": {
        "id": "e7id8Ewgzlow",
        "colab_type": "text"
      },
      "source": [
        "Crie um algoritmo em Python que peça a temperatura em graus Farenheit, transforme e mostre a temperatura em graus Celsius.\n",
        "C = (5 * (F-32) / 9)."
      ]
    },
    {
      "cell_type": "code",
      "metadata": {
        "id": "Kl0ainsv0Eif",
        "colab_type": "code",
        "colab": {
          "base_uri": "https://localhost:8080/",
          "height": 51
        },
        "outputId": "20ac5358-4440-4ac6-bb78-cc66030747db"
      },
      "source": [
        "farenheit = float(input(\"Informe a temperatura em Farenheit: \"))\n",
        "\n",
        "celsius = ((5/9)*(farenheit - 32))\n",
        "\n",
        "print(f\"A temperatura de {farenheit} graus farenheit equivale a {celsius} graus celsius\")"
      ],
      "execution_count": 11,
      "outputs": [
        {
          "output_type": "stream",
          "text": [
            "Informe a temperatura em Farenheit: 32\n",
            "A temperatura de 32.0 graus farenheit equivale a 0.0 graus celsius\n"
          ],
          "name": "stdout"
        }
      ]
    },
    {
      "cell_type": "markdown",
      "metadata": {
        "id": "mFCgXRPaznno",
        "colab_type": "text"
      },
      "source": [
        "Crie um algoritmo em Python que peça a temperatura em graus Celsius, transforme e mostre em graus Farenheit."
      ]
    },
    {
      "cell_type": "code",
      "metadata": {
        "id": "xEAAHRi00FS8",
        "colab_type": "code",
        "colab": {
          "base_uri": "https://localhost:8080/",
          "height": 51
        },
        "outputId": "d370e987-dda7-47a7-b3a7-00631cc73c97"
      },
      "source": [
        "celsius = float(input(\"Informe a temperatura em Celsius: \"))\n",
        "\n",
        "farenheit = ((9/5)*celsius + 32)\n",
        "\n",
        "print(f\"A temperatura de {celsius} graus celsius equivale a {farenheit} graus farenheit\")"
      ],
      "execution_count": 13,
      "outputs": [
        {
          "output_type": "stream",
          "text": [
            "Informe a temperatura em Celsius: 30\n",
            "A temperatura de 30.0 graus celsius equivale a 86.0 graus farenheit\n"
          ],
          "name": "stdout"
        }
      ]
    },
    {
      "cell_type": "markdown",
      "metadata": {
        "id": "j3fdhu-8zqu9",
        "colab_type": "text"
      },
      "source": [
        "Crie um algoritmo em Python que peça 2 números inteiros e um número real. Calcule e mostre:\n",
        "* a soma do dobro do primeiro com metade do segundo .\n",
        "* a soma do triplo do primeiro com o terceiro.\n",
        "* o terceiro elevado ao cubo."
      ]
    },
    {
      "cell_type": "code",
      "metadata": {
        "id": "ZEqZrKjt0F5B",
        "colab_type": "code",
        "colab": {
          "base_uri": "https://localhost:8080/",
          "height": 118
        },
        "outputId": "78a2812e-dd5a-4b4a-8414-9ee4e55f63d7"
      },
      "source": [
        "no_1 = int(input(\"Informe um número inteiro: \"))\n",
        "no_2 = int(input(\"Informe outro número inteiro: \"))\n",
        "no_3 = float(input(\"Informe um número real: \"))\n",
        "\n",
        "print(f\"A soma do dobro do primeiro com metade do segundo é igual a {2*no_1 + no_2/2:.2f}\")\n",
        "print(f\"A soma do triplo do primeiro com o terceiro é igual a {3*no_1 + no_3:.2f}\")\n",
        "print(f\"O terceiro elevado ao cubo é igual a {no_3 ** 3:.2f}\")"
      ],
      "execution_count": 14,
      "outputs": [
        {
          "output_type": "stream",
          "text": [
            "Informe um número inteiro: 1\n",
            "Informe outro número inteiro: 1\n",
            "Informe um número real: 1\n",
            "A soma do dobro do primeiro com metade do segundo é igual a 2.50\n",
            "A soma do triplo do primeiro com o terceiro é igual a 4.00\n",
            "O terceiro elevado ao cubo é igual a 1.00\n"
          ],
          "name": "stdout"
        }
      ]
    }
  ]
}