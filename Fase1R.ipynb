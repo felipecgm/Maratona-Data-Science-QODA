{
  "nbformat": 4,
  "nbformat_minor": 0,
  "metadata": {
    "colab": {
      "name": "Fase1R.ipynb",
      "provenance": [],
      "collapsed_sections": [],
      "include_colab_link": true
    },
    "kernelspec": {
      "name": "ir",
      "display_name": "R"
    }
  },
  "cells": [
    {
      "cell_type": "markdown",
      "metadata": {
        "id": "view-in-github",
        "colab_type": "text"
      },
      "source": [
        "<a href=\"https://colab.research.google.com/github/felipecgm/Maratona-Data-Science-QODA/blob/master/Fase1R.ipynb\" target=\"_parent\"><img src=\"https://colab.research.google.com/assets/colab-badge.svg\" alt=\"Open In Colab\"/></a>"
      ]
    },
    {
      "cell_type": "markdown",
      "metadata": {
        "id": "Z2Kl9pfj0JKM",
        "colab_type": "text"
      },
      "source": [
        "# Seja ensinável e execute as tarefas compartilhadas. Por fins didáticos e para melhor separação mental das sintaxes Python/R, realizaremos todos os exercícios de Python em R.\n",
        "![alt text](https://media.giphy.com/media/d3mlE7uhX8KFgEmY/200.gif)"
      ]
    },
    {
      "cell_type": "markdown",
      "metadata": {
        "id": "j9ZuOU7Kyh9O",
        "colab_type": "text"
      },
      "source": [
        "Crie um algoritmo em R que mostre a mensagem \"Alo mundo\" na tela."
      ]
    },
    {
      "cell_type": "code",
      "metadata": {
        "id": "tlFupLd-ydTB",
        "colab_type": "code",
        "colab": {
          "base_uri": "https://localhost:8080/",
          "height": 34
        },
        "outputId": "c02bd56b-146b-459d-e47f-bb0d9dbffb90"
      },
      "source": [
        "print(\"Alô mundo\")"
      ],
      "execution_count": 1,
      "outputs": [
        {
          "output_type": "stream",
          "text": [
            "[1] \"Alô mundo\"\n"
          ],
          "name": "stdout"
        }
      ]
    },
    {
      "cell_type": "markdown",
      "metadata": {
        "id": "yhw2owA-zbrn",
        "colab_type": "text"
      },
      "source": [
        "Crie um algoritmo em R que peça dois números e imprima a soma."
      ]
    },
    {
      "cell_type": "code",
      "metadata": {
        "id": "RJJtXkvV0qzj",
        "colab_type": "code",
        "colab": {
          "base_uri": "https://localhost:8080/",
          "height": 68
        },
        "outputId": "35339739-f959-4ff1-9bfd-979a7b0ca363"
      },
      "source": [
        "a = as.integer(readline(\"Informe o primeiro número: \"))\n",
        "b = as.integer(readline(\"Informe o segundo número: \"))\n",
        "\n",
        "soma = a + b\n",
        "\n",
        "sprintf(\"A soma de %d e %d é igual a %d\", a, b, soma)"
      ],
      "execution_count": 11,
      "outputs": [
        {
          "output_type": "stream",
          "text": [
            "Informe o primeiro número: 2\n",
            "Informe o segundo número: 4\n"
          ],
          "name": "stdout"
        },
        {
          "output_type": "display_data",
          "data": {
            "text/plain": [
              "[1] \"A soma de 2 e 4 é igual a 6\""
            ],
            "text/latex": "'A soma de 2 e 4 é igual a 6'",
            "text/markdown": "'A soma de 2 e 4 é igual a 6'",
            "text/html": [
              "'A soma de 2 e 4 é igual a 6'"
            ]
          },
          "metadata": {
            "tags": []
          }
        }
      ]
    },
    {
      "cell_type": "markdown",
      "metadata": {
        "id": "35RwPIIF0w3i",
        "colab_type": "text"
      },
      "source": [
        "Crie um algoritmo em R que peça um número e então mostre a mensagem O número informado foi [número]."
      ]
    },
    {
      "cell_type": "code",
      "metadata": {
        "id": "NEFu-8L808HB",
        "colab_type": "code",
        "colab": {
          "base_uri": "https://localhost:8080/",
          "height": 51
        },
        "outputId": "3a809392-0fb0-4d96-eae4-442c3f7fbeee"
      },
      "source": [
        "num = readline(\"Informe um número: \")\n",
        "\n",
        "sprintf(\"O número informado foi %s\", num)"
      ],
      "execution_count": 12,
      "outputs": [
        {
          "output_type": "stream",
          "text": [
            "Informe um número: 5\n"
          ],
          "name": "stdout"
        },
        {
          "output_type": "display_data",
          "data": {
            "text/plain": [
              "[1] \"O número informado foi 5\""
            ],
            "text/latex": "'O número informado foi 5'",
            "text/markdown": "'O número informado foi 5'",
            "text/html": [
              "'O número informado foi 5'"
            ]
          },
          "metadata": {
            "tags": []
          }
        }
      ]
    },
    {
      "cell_type": "markdown",
      "metadata": {
        "id": "_OGQmoYA08bI",
        "colab_type": "text"
      },
      "source": [
        "Crie um algoritmo em R que converta metros para centímetros."
      ]
    },
    {
      "cell_type": "code",
      "metadata": {
        "id": "xxgmQ5j21Abx",
        "colab_type": "code",
        "colab": {
          "base_uri": "https://localhost:8080/",
          "height": 51
        },
        "outputId": "7ac5fcd9-deaf-4846-f9bf-34db8ac4a344"
      },
      "source": [
        "metros = as.double(readline(\"Informe uma grandeza em metros: \"))\n",
        "\n",
        "sprintf(\"A grandeza informada corresponde a %.2f centímetros\", metros*100)"
      ],
      "execution_count": 3,
      "outputs": [
        {
          "output_type": "stream",
          "text": [
            "Informe uma grandeza em metros: 5.4\n"
          ],
          "name": "stdout"
        },
        {
          "output_type": "display_data",
          "data": {
            "text/plain": [
              "[1] \"A grandeza informada corresponde a 540.00 centímetros\""
            ],
            "text/latex": "'A grandeza informada corresponde a 540.00 centímetros'",
            "text/markdown": "'A grandeza informada corresponde a 540.00 centímetros'",
            "text/html": [
              "'A grandeza informada corresponde a 540.00 centímetros'"
            ]
          },
          "metadata": {
            "tags": []
          }
        }
      ]
    },
    {
      "cell_type": "markdown",
      "metadata": {
        "id": "kP9TOwKo1AnS",
        "colab_type": "text"
      },
      "source": [
        "Crie um algoritmo em Python que peça as 4 notas bimestrais e mostre a média."
      ]
    },
    {
      "cell_type": "code",
      "metadata": {
        "id": "Tj5xsjC-1D5I",
        "colab_type": "code",
        "colab": {
          "base_uri": "https://localhost:8080/",
          "height": 101
        },
        "outputId": "c453f8e0-7318-442e-cb22-92de4149cd31"
      },
      "source": [
        "n1 = as.double(readline(\"Informe a primeira nota: \"))\n",
        "n2 = as.double(readline(\"Informe a segunda nota: \"))\n",
        "n3 = as.double(readline(\"Informe a terceira nota: \"))\n",
        "n4 = as.double(readline(\"Informe a quarta nota: \"))\n",
        "\n",
        "media = (n1+n2+n3+n4)/4\n",
        "\n",
        "sprintf(\"A média é %.2f\", media)"
      ],
      "execution_count": 7,
      "outputs": [
        {
          "output_type": "stream",
          "text": [
            "Informe a primeira nota: 3\n",
            "Informe a segunda nota: 10\n",
            "Informe a terceira nota: 5\n",
            "Informe a quarta nota: 7\n"
          ],
          "name": "stdout"
        },
        {
          "output_type": "display_data",
          "data": {
            "text/plain": [
              "[1] \"A média é 6.25\""
            ],
            "text/latex": "'A média é 6.25'",
            "text/markdown": "'A média é 6.25'",
            "text/html": [
              "'A média é 6.25'"
            ]
          },
          "metadata": {
            "tags": []
          }
        }
      ]
    },
    {
      "cell_type": "markdown",
      "metadata": {
        "id": "6vgD9pl81EGd",
        "colab_type": "text"
      },
      "source": [
        "Crie um algoritmo em R que peça o raio de um círculo, calcule e mostre sua área."
      ]
    },
    {
      "cell_type": "code",
      "metadata": {
        "id": "3h1VOEuR1KGz",
        "colab_type": "code",
        "colab": {
          "base_uri": "https://localhost:8080/",
          "height": 51
        },
        "outputId": "e2247afc-e8fa-4106-ab97-1635fb5f29cc"
      },
      "source": [
        "raio = as.double(readline(\"Informe o raio de um círculo: \"))\n",
        "area = pi * raio ^ 2\n",
        "sprintf(\"A área de um círculo de raio %.2f unidades é igual a %.2f unidades de área\", raio, area)"
      ],
      "execution_count": 9,
      "outputs": [
        {
          "output_type": "stream",
          "text": [
            "Informe o raio de um círculo: 1\n"
          ],
          "name": "stdout"
        },
        {
          "output_type": "display_data",
          "data": {
            "text/plain": [
              "[1] \"A área de um círculo de raio 1.00 unidades é igual a 3.14 unidades de área\""
            ],
            "text/latex": "'A área de um círculo de raio 1.00 unidades é igual a 3.14 unidades de área'",
            "text/markdown": "'A área de um círculo de raio 1.00 unidades é igual a 3.14 unidades de área'",
            "text/html": [
              "'A área de um círculo de raio 1.00 unidades é igual a 3.14 unidades de área'"
            ]
          },
          "metadata": {
            "tags": []
          }
        }
      ]
    },
    {
      "cell_type": "markdown",
      "metadata": {
        "id": "QXhvPnMQ1Kd6",
        "colab_type": "text"
      },
      "source": [
        "Crie um algoritmo em R que calcule a área de um quadrado, em seguida mostre o dobro desta área para o usuário."
      ]
    },
    {
      "cell_type": "code",
      "metadata": {
        "id": "ywZkuhmt1N7l",
        "colab_type": "code",
        "colab": {
          "base_uri": "https://localhost:8080/",
          "height": 51
        },
        "outputId": "c332d685-204f-4da1-ca07-df4e035241bc"
      },
      "source": [
        "lado = as.double(readline(\"Informe o lado de um quadrado: \"))\n",
        "area = lado * lado\n",
        "dobro_area = 2 * area\n",
        "\n",
        "sprintf(\"A área é igual a %.2f e o dobro da área é igual a %2.f\", area, dobro_area)"
      ],
      "execution_count": 11,
      "outputs": [
        {
          "output_type": "stream",
          "text": [
            "Informe o lado de um quadrado: 8\n"
          ],
          "name": "stdout"
        },
        {
          "output_type": "display_data",
          "data": {
            "text/plain": [
              "[1] \"A área é igual a 64.00 e o dobro da área é igual a 128\""
            ],
            "text/latex": "'A área é igual a 64.00 e o dobro da área é igual a 128'",
            "text/markdown": "'A área é igual a 64.00 e o dobro da área é igual a 128'",
            "text/html": [
              "'A área é igual a 64.00 e o dobro da área é igual a 128'"
            ]
          },
          "metadata": {
            "tags": []
          }
        }
      ]
    },
    {
      "cell_type": "markdown",
      "metadata": {
        "id": "F-rpjggB1T5G",
        "colab_type": "text"
      },
      "source": [
        "Crie um algoritmo em R que pergunte quanto você ganha por hora e o número de horas trabalhadas no mês. Calcule e mostre o total do seu salário no referido mês.\n"
      ]
    },
    {
      "cell_type": "code",
      "metadata": {
        "id": "nvMchfOZ2_vC",
        "colab_type": "code",
        "colab": {
          "base_uri": "https://localhost:8080/",
          "height": 68
        },
        "outputId": "51f6979e-48ca-45a2-ead6-c8281d13de1c"
      },
      "source": [
        "valor_hora = as.double(readline(\"Quanto vc ganha por hora? R$ \"))\n",
        "horas_mes = as.double(readline(\"Quantas horas vc trabalha por mês? R$ \"))\n",
        "\n",
        "sprintf(\"Vc ganha R$ %.2f por mês\", valor_hora * horas_mes)"
      ],
      "execution_count": 12,
      "outputs": [
        {
          "output_type": "stream",
          "text": [
            "Quanto vc ganha por hora? R$ 10\n",
            "Quantas horas vc trabalha por mês? R$ 80\n"
          ],
          "name": "stdout"
        },
        {
          "output_type": "display_data",
          "data": {
            "text/plain": [
              "[1] \"Vc ganha R$ 800.00 por mês\""
            ],
            "text/latex": "'Vc ganha R\\$ 800.00 por mês'",
            "text/markdown": "'Vc ganha R$ 800.00 por mês'",
            "text/html": [
              "'Vc ganha R$ 800.00 por mês'"
            ]
          },
          "metadata": {
            "tags": []
          }
        }
      ]
    },
    {
      "cell_type": "markdown",
      "metadata": {
        "id": "C-H4OWh03DFn",
        "colab_type": "text"
      },
      "source": [
        "Crie um algoritmo em R que peça a temperatura em graus Farenheit, transforme e mostre a temperatura em graus Celsius.\n",
        "C = (5 * (F-32) / 9)."
      ]
    },
    {
      "cell_type": "code",
      "metadata": {
        "id": "vs5qFAKx3Eyi",
        "colab_type": "code",
        "colab": {
          "base_uri": "https://localhost:8080/",
          "height": 51
        },
        "outputId": "b824fb9a-bb21-413a-8d9c-d493d356bb52"
      },
      "source": [
        "farenheit = as.double(readline(\"Informe a temperatura em Farenheits: \"))\n",
        "celsius = ((5/9) * (farenheit - 32))\n",
        "\n",
        "sprintf(\"A temperatura equivale a %.2f graus celsius\", celsius)"
      ],
      "execution_count": 14,
      "outputs": [
        {
          "output_type": "stream",
          "text": [
            "Informe a temperatura em Farenheits: 32\n"
          ],
          "name": "stdout"
        },
        {
          "output_type": "display_data",
          "data": {
            "text/plain": [
              "[1] \"A temperatura equivale a 0.00 graus celsius\""
            ],
            "text/latex": "'A temperatura equivale a 0.00 graus celsius'",
            "text/markdown": "'A temperatura equivale a 0.00 graus celsius'",
            "text/html": [
              "'A temperatura equivale a 0.00 graus celsius'"
            ]
          },
          "metadata": {
            "tags": []
          }
        }
      ]
    },
    {
      "cell_type": "markdown",
      "metadata": {
        "id": "PGccudSo3E54",
        "colab_type": "text"
      },
      "source": [
        "Crie um algoritmo em R que peça a temperatura em graus Celsius, transforme e mostre em graus Farenheit."
      ]
    },
    {
      "cell_type": "code",
      "metadata": {
        "id": "_zfLyopV3IqV",
        "colab_type": "code",
        "colab": {
          "base_uri": "https://localhost:8080/",
          "height": 51
        },
        "outputId": "9e90ec32-5153-42e8-94a2-b25518401c32"
      },
      "source": [
        "celsius = as.double(readline(\"Informe a temperatura em graus celsius: \"))\n",
        "f =  (9/5)*celsius + 32\n",
        "\n",
        "sprintf(\"A temperatura equivale a %.2f graus farenheit\", f)"
      ],
      "execution_count": 20,
      "outputs": [
        {
          "output_type": "stream",
          "text": [
            "Informe a temperatura em graus celsius: 12\n"
          ],
          "name": "stdout"
        },
        {
          "output_type": "display_data",
          "data": {
            "text/plain": [
              "[1] \"A temperatura equivale a 53.60 graus farenheit\""
            ],
            "text/latex": "'A temperatura equivale a 53.60 graus farenheit'",
            "text/markdown": "'A temperatura equivale a 53.60 graus farenheit'",
            "text/html": [
              "'A temperatura equivale a 53.60 graus farenheit'"
            ]
          },
          "metadata": {
            "tags": []
          }
        }
      ]
    },
    {
      "cell_type": "markdown",
      "metadata": {
        "id": "bu3Zyati3Iwc",
        "colab_type": "text"
      },
      "source": [
        "Crie um algoritmo em R que peça 2 números inteiros e um número real. Calcule e mostre:\n",
        "* a soma do dobro do primeiro com metade do segundo .\n",
        "* a soma do triplo do primeiro com o terceiro.\n",
        "* o terceiro elevado ao cubo."
      ]
    },
    {
      "cell_type": "code",
      "metadata": {
        "id": "Peo4D5Sz3PDC",
        "colab_type": "code",
        "colab": {
          "base_uri": "https://localhost:8080/",
          "height": 118
        },
        "outputId": "4de97ba4-6868-4e1f-d976-ad5eaded2536"
      },
      "source": [
        "num1 = as.integer(readline(\"Informe um número: \"))\n",
        "num2 = as.integer(readline(\"Informe outro número: \"))\n",
        "num3 = as.double(readline(\"Informe mais um números: \"))\n",
        "\n",
        "sprintf(\"A soma do dobro do primeiro com metade do segundo é %.2f\", 2*num1 + num2/2)\n",
        "sprintf(\"A soma do triplo do primeiro com o terceiro é %.2f\", 3*num1 + num3)\n",
        "sprintf(\"O terceiro elevado ao cubo é %.2f\", num3 ^ 3)"
      ],
      "execution_count": 22,
      "outputs": [
        {
          "output_type": "stream",
          "text": [
            "Informe um número: 1\n",
            "Informe outro número: 1\n",
            "Informe mais um números: 1\n"
          ],
          "name": "stdout"
        },
        {
          "output_type": "display_data",
          "data": {
            "text/plain": [
              "[1] \"A soma do dobro do primeiro com metade do segundo é 2.50\""
            ],
            "text/latex": "'A soma do dobro do primeiro com metade do segundo é 2.50'",
            "text/markdown": "'A soma do dobro do primeiro com metade do segundo é 2.50'",
            "text/html": [
              "'A soma do dobro do primeiro com metade do segundo é 2.50'"
            ]
          },
          "metadata": {
            "tags": []
          }
        },
        {
          "output_type": "display_data",
          "data": {
            "text/plain": [
              "[1] \"A soma do triplo do primeiro com o terceiro é 4.00\""
            ],
            "text/latex": "'A soma do triplo do primeiro com o terceiro é 4.00'",
            "text/markdown": "'A soma do triplo do primeiro com o terceiro é 4.00'",
            "text/html": [
              "'A soma do triplo do primeiro com o terceiro é 4.00'"
            ]
          },
          "metadata": {
            "tags": []
          }
        },
        {
          "output_type": "display_data",
          "data": {
            "text/plain": [
              "[1] \"O terceiro elevado ao cubo é 1.00\""
            ],
            "text/latex": "'O terceiro elevado ao cubo é 1.00'",
            "text/markdown": "'O terceiro elevado ao cubo é 1.00'",
            "text/html": [
              "'O terceiro elevado ao cubo é 1.00'"
            ]
          },
          "metadata": {
            "tags": []
          }
        }
      ]
    }
  ]
}